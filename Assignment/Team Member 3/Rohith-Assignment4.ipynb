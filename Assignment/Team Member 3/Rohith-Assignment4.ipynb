{
  "cells": [
    {
      "cell_type": "markdown",
      "id": "d0a3512c",
      "metadata": {
        "id": "d0a3512c"
      },
      "source": [
        "# ASSIGNMENT 4"
      ]
    },
    {
      "cell_type": "markdown",
      "id": "7a3f590a",
      "metadata": {
        "id": "7a3f590a"
      },
      "source": [
        " ## 1. Download the dataset: Dataset\n",
        "## 2. Load the dataset into the tool.\n"
      ]
    },
    {
      "cell_type": "code",
      "execution_count": 1,
      "id": "91d1d2c5",
      "metadata": {
        "id": "91d1d2c5"
      },
      "outputs": [],
      "source": [
        "import pandas as pd\n",
        "import numpy as np\n",
        "import matplotlib.pyplot as plt\n",
        "import seaborn as sns"
      ]
    },
    {
      "cell_type": "code",
      "execution_count": null,
      "id": "295f9ccb",
      "metadata": {
        "id": "295f9ccb"
      },
      "outputs": [],
      "source": [
        "import warnings\n",
        "warnings.filterwarnings(\"ignore\")"
      ]
    },
    {
      "cell_type": "code",
      "execution_count": null,
      "id": "7eba1391",
      "metadata": {
        "id": "7eba1391",
        "outputId": "849b2e06-0717-419c-eb60-1c635e160a89"
      },
      "outputs": [
        {
          "data": {
            "text/html": [
              "<div>\n",
              "<style scoped>\n",
              "    .dataframe tbody tr th:only-of-type {\n",
              "        vertical-align: middle;\n",
              "    }\n",
              "\n",
              "    .dataframe tbody tr th {\n",
              "        vertical-align: top;\n",
              "    }\n",
              "\n",
              "    .dataframe thead th {\n",
              "        text-align: right;\n",
              "    }\n",
              "</style>\n",
              "<table border=\"1\" class=\"dataframe\">\n",
              "  <thead>\n",
              "    <tr style=\"text-align: right;\">\n",
              "      <th></th>\n",
              "      <th>CustomerID</th>\n",
              "      <th>Gender</th>\n",
              "      <th>Age</th>\n",
              "      <th>Annual Income (k$)</th>\n",
              "      <th>Spending Score (1-100)</th>\n",
              "    </tr>\n",
              "  </thead>\n",
              "  <tbody>\n",
              "    <tr>\n",
              "      <th>0</th>\n",
              "      <td>1</td>\n",
              "      <td>Male</td>\n",
              "      <td>19</td>\n",
              "      <td>15</td>\n",
              "      <td>39</td>\n",
              "    </tr>\n",
              "    <tr>\n",
              "      <th>1</th>\n",
              "      <td>2</td>\n",
              "      <td>Male</td>\n",
              "      <td>21</td>\n",
              "      <td>15</td>\n",
              "      <td>81</td>\n",
              "    </tr>\n",
              "    <tr>\n",
              "      <th>2</th>\n",
              "      <td>3</td>\n",
              "      <td>Female</td>\n",
              "      <td>20</td>\n",
              "      <td>16</td>\n",
              "      <td>6</td>\n",
              "    </tr>\n",
              "    <tr>\n",
              "      <th>3</th>\n",
              "      <td>4</td>\n",
              "      <td>Female</td>\n",
              "      <td>23</td>\n",
              "      <td>16</td>\n",
              "      <td>77</td>\n",
              "    </tr>\n",
              "    <tr>\n",
              "      <th>4</th>\n",
              "      <td>5</td>\n",
              "      <td>Female</td>\n",
              "      <td>31</td>\n",
              "      <td>17</td>\n",
              "      <td>40</td>\n",
              "    </tr>\n",
              "  </tbody>\n",
              "</table>\n",
              "</div>"
            ],
            "text/plain": [
              "   CustomerID  Gender  Age  Annual Income (k$)  Spending Score (1-100)\n",
              "0           1    Male   19                  15                      39\n",
              "1           2    Male   21                  15                      81\n",
              "2           3  Female   20                  16                       6\n",
              "3           4  Female   23                  16                      77\n",
              "4           5  Female   31                  17                      40"
            ]
          },
          "execution_count": 3,
          "metadata": {},
          "output_type": "execute_result"
        }
      ],
      "source": [
        "data=pd.read_csv(\"Mall_Customers.CSV\")\n",
        "data.head()"
      ]
    },
    {
      "cell_type": "code",
      "execution_count": null,
      "id": "11ff68f1",
      "metadata": {
        "id": "11ff68f1",
        "outputId": "409ac524-ded8-42de-9f48-52512263fe95"
      },
      "outputs": [
        {
          "data": {
            "text/html": [
              "<div>\n",
              "<style scoped>\n",
              "    .dataframe tbody tr th:only-of-type {\n",
              "        vertical-align: middle;\n",
              "    }\n",
              "\n",
              "    .dataframe tbody tr th {\n",
              "        vertical-align: top;\n",
              "    }\n",
              "\n",
              "    .dataframe thead th {\n",
              "        text-align: right;\n",
              "    }\n",
              "</style>\n",
              "<table border=\"1\" class=\"dataframe\">\n",
              "  <thead>\n",
              "    <tr style=\"text-align: right;\">\n",
              "      <th></th>\n",
              "      <th>CustomerID</th>\n",
              "      <th>Gender</th>\n",
              "      <th>Age</th>\n",
              "      <th>Annual Income (k$)</th>\n",
              "      <th>Spending Score (1-100)</th>\n",
              "    </tr>\n",
              "  </thead>\n",
              "  <tbody>\n",
              "    <tr>\n",
              "      <th>195</th>\n",
              "      <td>196</td>\n",
              "      <td>Female</td>\n",
              "      <td>35</td>\n",
              "      <td>120</td>\n",
              "      <td>79</td>\n",
              "    </tr>\n",
              "    <tr>\n",
              "      <th>196</th>\n",
              "      <td>197</td>\n",
              "      <td>Female</td>\n",
              "      <td>45</td>\n",
              "      <td>126</td>\n",
              "      <td>28</td>\n",
              "    </tr>\n",
              "    <tr>\n",
              "      <th>197</th>\n",
              "      <td>198</td>\n",
              "      <td>Male</td>\n",
              "      <td>32</td>\n",
              "      <td>126</td>\n",
              "      <td>74</td>\n",
              "    </tr>\n",
              "    <tr>\n",
              "      <th>198</th>\n",
              "      <td>199</td>\n",
              "      <td>Male</td>\n",
              "      <td>32</td>\n",
              "      <td>137</td>\n",
              "      <td>18</td>\n",
              "    </tr>\n",
              "    <tr>\n",
              "      <th>199</th>\n",
              "      <td>200</td>\n",
              "      <td>Male</td>\n",
              "      <td>30</td>\n",
              "      <td>137</td>\n",
              "      <td>83</td>\n",
              "    </tr>\n",
              "  </tbody>\n",
              "</table>\n",
              "</div>"
            ],
            "text/plain": [
              "     CustomerID  Gender  Age  Annual Income (k$)  Spending Score (1-100)\n",
              "195         196  Female   35                 120                      79\n",
              "196         197  Female   45                 126                      28\n",
              "197         198    Male   32                 126                      74\n",
              "198         199    Male   32                 137                      18\n",
              "199         200    Male   30                 137                      83"
            ]
          },
          "execution_count": 4,
          "metadata": {},
          "output_type": "execute_result"
        }
      ],
      "source": [
        "data.tail()"
      ]
    },
    {
      "cell_type": "code",
      "execution_count": null,
      "id": "6734b248",
      "metadata": {
        "id": "6734b248",
        "outputId": "b9752a3c-ca09-451f-e6d2-aa9a1479af9d"
      },
      "outputs": [
        {
          "name": "stdout",
          "output_type": "stream",
          "text": [
            "<class 'pandas.core.frame.DataFrame'>\n",
            "RangeIndex: 200 entries, 0 to 199\n",
            "Data columns (total 5 columns):\n",
            " #   Column                  Non-Null Count  Dtype \n",
            "---  ------                  --------------  ----- \n",
            " 0   CustomerID              200 non-null    int64 \n",
            " 1   Gender                  200 non-null    object\n",
            " 2   Age                     200 non-null    int64 \n",
            " 3   Annual Income (k$)      200 non-null    int64 \n",
            " 4   Spending Score (1-100)  200 non-null    int64 \n",
            "dtypes: int64(4), object(1)\n",
            "memory usage: 7.9+ KB\n"
          ]
        }
      ],
      "source": [
        "data.info()"
      ]
    },
    {
      "cell_type": "code",
      "execution_count": null,
      "id": "e9d78d3d",
      "metadata": {
        "id": "e9d78d3d",
        "outputId": "3bc86ca2-1680-420d-c32a-7fa35b0d350f"
      },
      "outputs": [
        {
          "data": {
            "text/plain": [
              "(200, 5)"
            ]
          },
          "execution_count": 6,
          "metadata": {},
          "output_type": "execute_result"
        }
      ],
      "source": [
        "data.shape"
      ]
    },
    {
      "cell_type": "markdown",
      "id": "541c20e2",
      "metadata": {
        "id": "541c20e2"
      },
      "source": [
        "## 3. Perform Below Visualizations.\n"
      ]
    },
    {
      "cell_type": "markdown",
      "id": "00c3f338",
      "metadata": {
        "id": "00c3f338"
      },
      "source": [
        "### 3.1∙ Univariate Analysis\n",
        "\n"
      ]
    },
    {
      "cell_type": "code",
      "execution_count": null,
      "id": "f16e2102",
      "metadata": {
        "id": "f16e2102",
        "outputId": "4f53250a-6e01-40a2-e09f-3ca93dbc0f1f"
      },
      "outputs": [
        {
          "data": {
            "text/plain": [
              "(array([31., 19., 34., 29., 16., 26., 15., 10.,  6., 14.]),\n",
              " array([18. , 23.2, 28.4, 33.6, 38.8, 44. , 49.2, 54.4, 59.6, 64.8, 70. ]),\n",
              " <BarContainer object of 10 artists>)"
            ]
          },
          "execution_count": 7,
          "metadata": {},
          "output_type": "execute_result"
        },
        {
          "data": {
            "image/png": "[encoded data removed]",
            "text/plain": [
              "<Figure size 432x288 with 1 Axes>"
            ]
          },
          "metadata": {
            "needs_background": "light"
          },
          "output_type": "display_data"
        }
      ],
      "source": [
        "plt.hist(data['Age'])"
      ]
    },
    {
      "cell_type": "code",
      "execution_count": null,
      "id": "58170bb9",
      "metadata": {
        "id": "58170bb9",
        "outputId": "426e5dae-ce7e-4069-a758-bdbfd1e5ec80"
      },
      "outputs": [
        {
          "data": {
            "text/plain": [
              "<AxesSubplot:xlabel='Gender', ylabel='count'>"
            ]
          },
          "execution_count": 8,
          "metadata": {},
          "output_type": "execute_result"
        },
        {
          "data": {
            "image/png": "[encoded data removed]",
            "text/plain": [
              "<Figure size 432x288 with 1 Axes>"
            ]
          },
          "metadata": {
            "needs_background": "light"
          },
          "output_type": "display_data"
        }
      ],
      "source": [
        "sns.countplot(data.Gender)"
      ]
    },
    {
      "cell_type": "code",
      "execution_count": null,
      "id": "e2e2eb7c",
      "metadata": {
        "id": "e2e2eb7c",
        "outputId": "814151ba-158f-446b-febf-b491c3356541"
      },
      "outputs": [
        {
          "data": {
            "text/plain": [
              "<AxesSubplot:xlabel='Annual Income (k$)'>"
            ]
          },
          "execution_count": 9,
          "metadata": {},
          "output_type": "execute_result"
        },
        {
          "data": {
            "image/png": "[encoded data removed]",
            "text/plain": [
              "<Figure size 432x288 with 1 Axes>"
            ]
          },
          "metadata": {
            "needs_background": "light"
          },
          "output_type": "display_data"
        }
      ],
      "source": [
        "sns.boxplot(data['Annual Income (k$)'])"
      ]
    },
    {
      "cell_type": "markdown",
      "id": "110e8a9a",
      "metadata": {
        "id": "110e8a9a"
      },
      "source": [
        "### 3.2∙ Bi- Variate Analysis\n",
        "\n"
      ]
    },
    {
      "cell_type": "code",
      "execution_count": null,
      "id": "ff853ee5",
      "metadata": {
        "id": "ff853ee5",
        "outputId": "4d7a2635-c52b-448f-d7b1-9b4c3439e927"
      },
      "outputs": [
        {
          "data": {
            "text/plain": [
              "<BarContainer object of 200 artists>"
            ]
          },
          "execution_count": 10,
          "metadata": {},
          "output_type": "execute_result"
        },
        {
          "data": {
            "image/png": "[encoded data removed]",
            "text/plain": [
              "<Figure size 432x288 with 1 Axes>"
            ]
          },
          "metadata": {
            "needs_background": "light"
          },
          "output_type": "display_data"
        }
      ],
      "source": [
        "plt.bar(data['Gender'],data['Age'])"
      ]
    },
    {
      "cell_type": "code",
      "execution_count": null,
      "id": "af797977",
      "metadata": {
        "id": "af797977",
        "outputId": "cb781fe5-cb4d-43c5-ae69-05293888acf9"
      },
      "outputs": [
        {
          "data": {
            "text/plain": [
              "<matplotlib.collections.PathCollection at 0x1752591cb20>"
            ]
          },
          "execution_count": 11,
          "metadata": {},
          "output_type": "execute_result"
        },
        {
          "data": {
            "image/png": "[encoded data removed]",
            "text/plain": [
              "<Figure size 432x288 with 1 Axes>"
            ]
          },
          "metadata": {
            "needs_background": "light"
          },
          "output_type": "display_data"
        }
      ],
      "source": [
        "plt.scatter(data['Age'],data['CustomerID'])"
      ]
    },
    {
      "cell_type": "code",
      "execution_count": null,
      "id": "f3dbacab",
      "metadata": {
        "id": "f3dbacab",
        "outputId": "821d58e5-2df7-4abe-93f1-e8d1dec57c77"
      },
      "outputs": [
        {
          "data": {
            "text/plain": [
              "<AxesSubplot:xlabel='Gender', ylabel='Age'>"
            ]
          },
          "execution_count": 12,
          "metadata": {},
          "output_type": "execute_result"
        },
        {
          "data": {
            "image/png": "[encoded data removed]",
            "text/plain": [
              "<Figure size 432x288 with 1 Axes>"
            ]
          },
          "metadata": {
            "needs_background": "light"
          },
          "output_type": "display_data"
        }
      ],
      "source": [
        "sns.barplot(x=data.Gender,y=data.Age)"
      ]
    },
    {
      "cell_type": "code",
      "execution_count": null,
      "id": "d3fb7acf",
      "metadata": {
        "id": "d3fb7acf",
        "outputId": "62a4885c-3871-4e2c-9ad7-4904c4332791"
      },
      "outputs": [
        {
          "data": {
            "text/plain": [
              "<AxesSubplot:xlabel='Gender', ylabel='Age'>"
            ]
          },
          "execution_count": 13,
          "metadata": {},
          "output_type": "execute_result"
        },
        {
          "data": {
            "image/png": "[encoded data removed]",
            "text/plain": [
              "<Figure size 432x288 with 1 Axes>"
            ]
          },
          "metadata": {
            "needs_background": "light"
          },
          "output_type": "display_data"
        }
      ],
      "source": [
        "sns.boxplot(x=data.Gender,y=data.Age)"
      ]
    },
    {
      "cell_type": "code",
      "execution_count": null,
      "id": "5bf5866f",
      "metadata": {
        "id": "5bf5866f",
        "outputId": "00b48729-0e4c-44ba-af21-c64ab713826f"
      },
      "outputs": [
        {
          "data": {
            "text/plain": [
              "<AxesSubplot:xlabel='CustomerID', ylabel='Age'>"
            ]
          },
          "execution_count": 14,
          "metadata": {},
          "output_type": "execute_result"
        },
        {
          "data": {
            "image/png": "[encoded data removed]",
            "text/plain": [
              "<Figure size 432x288 with 1 Axes>"
            ]
          },
          "metadata": {
            "needs_background": "light"
          },
          "output_type": "display_data"
        }
      ],
      "source": [
        "sns.scatterplot(data.CustomerID,data.Age)"
      ]
    },
    {
      "cell_type": "markdown",
      "id": "d8bed1c6",
      "metadata": {
        "id": "d8bed1c6"
      },
      "source": [
        "### 3.3∙ Multi-Variate Analysis"
      ]
    },
    {
      "cell_type": "code",
      "execution_count": null,
      "id": "99e265c8",
      "metadata": {
        "id": "99e265c8",
        "outputId": "8d1bffca-0aaf-49e1-8b32-8ca899d4a2b9"
      },
      "outputs": [
        {
          "data": {
            "text/plain": [
              "Text(0.5, 1.0, 'Multivariate analysis')"
            ]
          },
          "execution_count": 15,
          "metadata": {},
          "output_type": "execute_result"
        },
        {
          "data": {
            "image/png": "[encoded data removed]",
            "text/plain": [
              "<Figure size 2160x1080 with 2 Axes>"
            ]
          },
          "metadata": {},
          "output_type": "display_data"
        }
      ],
      "source": [
        "sns.set(font_scale=1.15)\n",
        "plt.figure(figsize=(30,15))\n",
        "sns.heatmap(data.corr(),cmap='RdYlGn_r',annot=True,).set_title('Multivariate analysis')"
      ]
    },
    {
      "cell_type": "code",
      "execution_count": null,
      "id": "7939f770",
      "metadata": {
        "id": "7939f770",
        "outputId": "2dcc1b1d-9c08-4dab-e8f8-c50f9fe1238b"
      },
      "outputs": [
        {
          "data": {
            "text/plain": [
              "<seaborn.axisgrid.PairGrid at 0x17525a14d90>"
            ]
          },
          "execution_count": 16,
          "metadata": {},
          "output_type": "execute_result"
        },
        {
          "data": {
            "image/png": "[encoded data removed]",
            "text/plain": [
              "<Figure size 720x720 with 20 Axes>"
            ]
          },
          "metadata": {},
          "output_type": "display_data"
        }
      ],
      "source": [
        "sns.pairplot(data)"
      ]
    },
    {
      "cell_type": "code",
      "execution_count": null,
      "id": "993c6d97",
      "metadata": {
        "id": "993c6d97",
        "outputId": "5c3b2870-9013-41a7-b5ac-a0dca337daa6"
      },
      "outputs": [
        {
          "data": {
            "text/plain": [
              "<seaborn.axisgrid.FacetGrid at 0x175259c0310>"
            ]
          },
          "execution_count": 17,
          "metadata": {},
          "output_type": "execute_result"
        },
        {
          "data": {
            "image/png": "[encoded data removed]",
            "text/plain": [
              "<Figure size 447.79x360 with 1 Axes>"
            ]
          },
          "metadata": {},
          "output_type": "display_data"
        }
      ],
      "source": [
        "sns.relplot(x = \"Age\", y = \"CustomerID\" , hue = \"Gender\",data = data)"
      ]
    },
    {
      "cell_type": "code",
      "execution_count": null,
      "id": "add304e9",
      "metadata": {
        "id": "add304e9",
        "outputId": "db422af7-383a-4888-d4e5-b6e8e0b760f6"
      },
      "outputs": [
        {
          "data": {
            "text/plain": [
              "<seaborn.axisgrid.FacetGrid at 0x17525a816a0>"
            ]
          },
          "execution_count": 18,
          "metadata": {},
          "output_type": "execute_result"
        },
        {
          "data": {
            "image/png": "[encoded data removed]",
            "text/plain": [
              "<Figure size 447.79x360 with 1 Axes>"
            ]
          },
          "metadata": {},
          "output_type": "display_data"
        }
      ],
      "source": [
        "sns.catplot(x = \"Age\",y =\"CustomerID\",hue = \"Gender\",data= data)"
      ]
    },
    {
      "cell_type": "markdown",
      "id": "c5ee90c1",
      "metadata": {
        "id": "c5ee90c1"
      },
      "source": [
        "## 4. Perform descriptive statistics on the dataset.\n"
      ]
    },
    {
      "cell_type": "code",
      "execution_count": null,
      "id": "bf45ee01",
      "metadata": {
        "id": "bf45ee01",
        "outputId": "56677983-9a42-4314-a55c-27eba69c31c1"
      },
      "outputs": [
        {
          "data": {
            "text/html": [
              "<div>\n",
              "<style scoped>\n",
              "    .dataframe tbody tr th:only-of-type {\n",
              "        vertical-align: middle;\n",
              "    }\n",
              "\n",
              "    .dataframe tbody tr th {\n",
              "        vertical-align: top;\n",
              "    }\n",
              "\n",
              "    .dataframe thead th {\n",
              "        text-align: right;\n",
              "    }\n",
              "</style>\n",
              "<table border=\"1\" class=\"dataframe\">\n",
              "  <thead>\n",
              "    <tr style=\"text-align: right;\">\n",
              "      <th></th>\n",
              "      <th>CustomerID</th>\n",
              "      <th>Age</th>\n",
              "      <th>Annual Income (k$)</th>\n",
              "      <th>Spending Score (1-100)</th>\n",
              "    </tr>\n",
              "  </thead>\n",
              "  <tbody>\n",
              "    <tr>\n",
              "      <th>count</th>\n",
              "      <td>200.000000</td>\n",
              "      <td>200.000000</td>\n",
              "      <td>200.000000</td>\n",
              "      <td>200.000000</td>\n",
              "    </tr>\n",
              "    <tr>\n",
              "      <th>mean</th>\n",
              "      <td>100.500000</td>\n",
              "      <td>38.850000</td>\n",
              "      <td>60.560000</td>\n",
              "      <td>50.200000</td>\n",
              "    </tr>\n",
              "    <tr>\n",
              "      <th>std</th>\n",
              "      <td>57.879185</td>\n",
              "      <td>13.969007</td>\n",
              "      <td>26.264721</td>\n",
              "      <td>25.823522</td>\n",
              "    </tr>\n",
              "    <tr>\n",
              "      <th>min</th>\n",
              "      <td>1.000000</td>\n",
              "      <td>18.000000</td>\n",
              "      <td>15.000000</td>\n",
              "      <td>1.000000</td>\n",
              "    </tr>\n",
              "    <tr>\n",
              "      <th>25%</th>\n",
              "      <td>50.750000</td>\n",
              "      <td>28.750000</td>\n",
              "      <td>41.500000</td>\n",
              "      <td>34.750000</td>\n",
              "    </tr>\n",
              "    <tr>\n",
              "      <th>50%</th>\n",
              "      <td>100.500000</td>\n",
              "      <td>36.000000</td>\n",
              "      <td>61.500000</td>\n",
              "      <td>50.000000</td>\n",
              "    </tr>\n",
              "    <tr>\n",
              "      <th>75%</th>\n",
              "      <td>150.250000</td>\n",
              "      <td>49.000000</td>\n",
              "      <td>78.000000</td>\n",
              "      <td>73.000000</td>\n",
              "    </tr>\n",
              "    <tr>\n",
              "      <th>max</th>\n",
              "      <td>200.000000</td>\n",
              "      <td>70.000000</td>\n",
              "      <td>137.000000</td>\n",
              "      <td>99.000000</td>\n",
              "    </tr>\n",
              "  </tbody>\n",
              "</table>\n",
              "</div>"
            ],
            "text/plain": [
              "       CustomerID         Age  Annual Income (k$)  Spending Score (1-100)\n",
              "count  200.000000  200.000000          200.000000              200.000000\n",
              "mean   100.500000   38.850000           60.560000               50.200000\n",
              "std     57.879185   13.969007           26.264721               25.823522\n",
              "min      1.000000   18.000000           15.000000                1.000000\n",
              "25%     50.750000   28.750000           41.500000               34.750000\n",
              "50%    100.500000   36.000000           61.500000               50.000000\n",
              "75%    150.250000   49.000000           78.000000               73.000000\n",
              "max    200.000000   70.000000          137.000000               99.000000"
            ]
          },
          "execution_count": 19,
          "metadata": {},
          "output_type": "execute_result"
        }
      ],
      "source": [
        "data.describe()"
      ]
    },
    {
      "cell_type": "code",
      "execution_count": null,
      "id": "a79bf1ba",
      "metadata": {
        "id": "a79bf1ba",
        "outputId": "2a4b00c9-3ccb-46ee-fc80-e8906afb2618"
      },
      "outputs": [
        {
          "data": {
            "text/plain": [
              "38.85"
            ]
          },
          "execution_count": 20,
          "metadata": {},
          "output_type": "execute_result"
        }
      ],
      "source": [
        "#mean\n",
        "data['Age'].mean()"
      ]
    },
    {
      "cell_type": "code",
      "execution_count": null,
      "id": "2e726881",
      "metadata": {
        "id": "2e726881",
        "outputId": "84a4c663-d888-41dd-96c5-61941ac0bd50"
      },
      "outputs": [
        {
          "data": {
            "text/plain": [
              "CustomerID                100.5\n",
              "Age                        36.0\n",
              "Annual Income (k$)         61.5\n",
              "Spending Score (1-100)     50.0\n",
              "dtype: float64"
            ]
          },
          "execution_count": 21,
          "metadata": {},
          "output_type": "execute_result"
        }
      ],
      "source": [
        "#median\n",
        "data.median()"
      ]
    },
    {
      "cell_type": "code",
      "execution_count": null,
      "id": "4e40637c",
      "metadata": {
        "id": "4e40637c",
        "outputId": "1c0a5660-21d1-4431-c7e1-1c41d4737847"
      },
      "outputs": [
        {
          "data": {
            "text/plain": [
              "0    32\n",
              "Name: Age, dtype: int64"
            ]
          },
          "execution_count": 22,
          "metadata": {},
          "output_type": "execute_result"
        }
      ],
      "source": [
        "data['Age'].mode()"
      ]
    },
    {
      "cell_type": "code",
      "execution_count": null,
      "id": "3db25736",
      "metadata": {
        "id": "3db25736",
        "outputId": "e9eb4cd4-0f4e-4879-9357-3498f2c9da8c"
      },
      "outputs": [
        {
          "data": {
            "text/html": [
              "<div>\n",
              "<style scoped>\n",
              "    .dataframe tbody tr th:only-of-type {\n",
              "        vertical-align: middle;\n",
              "    }\n",
              "\n",
              "    .dataframe tbody tr th {\n",
              "        vertical-align: top;\n",
              "    }\n",
              "\n",
              "    .dataframe thead th {\n",
              "        text-align: right;\n",
              "    }\n",
              "</style>\n",
              "<table border=\"1\" class=\"dataframe\">\n",
              "  <thead>\n",
              "    <tr style=\"text-align: right;\">\n",
              "      <th></th>\n",
              "      <th>CustomerID</th>\n",
              "      <th>Gender</th>\n",
              "      <th>Age</th>\n",
              "      <th>Annual Income (k$)</th>\n",
              "      <th>Spending Score (1-100)</th>\n",
              "    </tr>\n",
              "  </thead>\n",
              "  <tbody>\n",
              "    <tr>\n",
              "      <th>0</th>\n",
              "      <td>1</td>\n",
              "      <td>Female</td>\n",
              "      <td>32.0</td>\n",
              "      <td>54.0</td>\n",
              "      <td>42.0</td>\n",
              "    </tr>\n",
              "    <tr>\n",
              "      <th>1</th>\n",
              "      <td>2</td>\n",
              "      <td>NaN</td>\n",
              "      <td>NaN</td>\n",
              "      <td>78.0</td>\n",
              "      <td>NaN</td>\n",
              "    </tr>\n",
              "    <tr>\n",
              "      <th>2</th>\n",
              "      <td>3</td>\n",
              "      <td>NaN</td>\n",
              "      <td>NaN</td>\n",
              "      <td>NaN</td>\n",
              "      <td>NaN</td>\n",
              "    </tr>\n",
              "    <tr>\n",
              "      <th>3</th>\n",
              "      <td>4</td>\n",
              "      <td>NaN</td>\n",
              "      <td>NaN</td>\n",
              "      <td>NaN</td>\n",
              "      <td>NaN</td>\n",
              "    </tr>\n",
              "    <tr>\n",
              "      <th>4</th>\n",
              "      <td>5</td>\n",
              "      <td>NaN</td>\n",
              "      <td>NaN</td>\n",
              "      <td>NaN</td>\n",
              "      <td>NaN</td>\n",
              "    </tr>\n",
              "    <tr>\n",
              "      <th>...</th>\n",
              "      <td>...</td>\n",
              "      <td>...</td>\n",
              "      <td>...</td>\n",
              "      <td>...</td>\n",
              "      <td>...</td>\n",
              "    </tr>\n",
              "    <tr>\n",
              "      <th>195</th>\n",
              "      <td>196</td>\n",
              "      <td>NaN</td>\n",
              "      <td>NaN</td>\n",
              "      <td>NaN</td>\n",
              "      <td>NaN</td>\n",
              "    </tr>\n",
              "    <tr>\n",
              "      <th>196</th>\n",
              "      <td>197</td>\n",
              "      <td>NaN</td>\n",
              "      <td>NaN</td>\n",
              "      <td>NaN</td>\n",
              "      <td>NaN</td>\n",
              "    </tr>\n",
              "    <tr>\n",
              "      <th>197</th>\n",
              "      <td>198</td>\n",
              "      <td>NaN</td>\n",
              "      <td>NaN</td>\n",
              "      <td>NaN</td>\n",
              "      <td>NaN</td>\n",
              "    </tr>\n",
              "    <tr>\n",
              "      <th>198</th>\n",
              "      <td>199</td>\n",
              "      <td>NaN</td>\n",
              "      <td>NaN</td>\n",
              "      <td>NaN</td>\n",
              "      <td>NaN</td>\n",
              "    </tr>\n",
              "    <tr>\n",
              "      <th>199</th>\n",
              "      <td>200</td>\n",
              "      <td>NaN</td>\n",
              "      <td>NaN</td>\n",
              "      <td>NaN</td>\n",
              "      <td>NaN</td>\n",
              "    </tr>\n",
              "  </tbody>\n",
              "</table>\n",
              "<p>200 rows × 5 columns</p>\n",
              "</div>"
            ],
            "text/plain": [
              "     CustomerID  Gender   Age  Annual Income (k$)  Spending Score (1-100)\n",
              "0             1  Female  32.0                54.0                    42.0\n",
              "1             2     NaN   NaN                78.0                     NaN\n",
              "2             3     NaN   NaN                 NaN                     NaN\n",
              "3             4     NaN   NaN                 NaN                     NaN\n",
              "4             5     NaN   NaN                 NaN                     NaN\n",
              "..          ...     ...   ...                 ...                     ...\n",
              "195         196     NaN   NaN                 NaN                     NaN\n",
              "196         197     NaN   NaN                 NaN                     NaN\n",
              "197         198     NaN   NaN                 NaN                     NaN\n",
              "198         199     NaN   NaN                 NaN                     NaN\n",
              "199         200     NaN   NaN                 NaN                     NaN\n",
              "\n",
              "[200 rows x 5 columns]"
            ]
          },
          "execution_count": 23,
          "metadata": {},
          "output_type": "execute_result"
        }
      ],
      "source": [
        "#mode\n",
        "data.mode()"
      ]
    },
    {
      "cell_type": "code",
      "execution_count": null,
      "id": "0816c173",
      "metadata": {
        "id": "0816c173",
        "outputId": "4ed3ad08-b336-4b4c-9824-39bdffa1043e"
      },
      "outputs": [
        {
          "data": {
            "text/plain": [
              "CustomerID                57.879185\n",
              "Age                       13.969007\n",
              "Annual Income (k$)        26.264721\n",
              "Spending Score (1-100)    25.823522\n",
              "dtype: float64"
            ]
          },
          "execution_count": 24,
          "metadata": {},
          "output_type": "execute_result"
        }
      ],
      "source": [
        "#std\n",
        "data.std()"
      ]
    },
    {
      "cell_type": "code",
      "execution_count": null,
      "id": "3918cf37",
      "metadata": {
        "id": "3918cf37",
        "outputId": "6bf2fd74-60a1-4bc0-afdf-c8912a3209de"
      },
      "outputs": [
        {
          "data": {
            "text/plain": [
              "CustomerID                3350.000000\n",
              "Age                        195.133166\n",
              "Annual Income (k$)         689.835578\n",
              "Spending Score (1-100)     666.854271\n",
              "dtype: float64"
            ]
          },
          "execution_count": 25,
          "metadata": {},
          "output_type": "execute_result"
        }
      ],
      "source": [
        "#var\n",
        "data.var()"
      ]
    },
    {
      "cell_type": "code",
      "execution_count": null,
      "id": "0e0685e2",
      "metadata": {
        "id": "0e0685e2",
        "outputId": "84edff31-430d-4fad-ab7c-fb42f9e5eea6"
      },
      "outputs": [
        {
          "data": {
            "text/plain": [
              "CustomerID                0.000000\n",
              "Age                       0.485569\n",
              "Annual Income (k$)        0.321843\n",
              "Spending Score (1-100)   -0.047220\n",
              "dtype: float64"
            ]
          },
          "execution_count": 26,
          "metadata": {},
          "output_type": "execute_result"
        }
      ],
      "source": [
        "#skewness\n",
        "data.skew()"
      ]
    },
    {
      "cell_type": "code",
      "execution_count": null,
      "id": "5f87fe97",
      "metadata": {
        "id": "5f87fe97",
        "outputId": "0b2d8715-665f-4e08-d5a6-2d361cc858f2"
      },
      "outputs": [
        {
          "name": "stdout",
          "output_type": "stream",
          "text": [
            "AxesSubplot(0.125,0.125;0.775x0.755)\n",
            "AxesSubplot(0.125,0.125;0.775x0.755)\n"
          ]
        },
        {
          "data": {
            "text/plain": [
              "(None, None)"
            ]
          },
          "execution_count": 27,
          "metadata": {},
          "output_type": "execute_result"
        },
        {
          "data": {
            "image/png": "[encoded data removed]",
            "text/plain": [
              "<Figure size 432x288 with 1 Axes>"
            ]
          },
          "metadata": {},
          "output_type": "display_data"
        }
      ],
      "source": [
        "print(sns.distplot(data['Age'])),print(sns.distplot(data['Age'],kde=True,))"
      ]
    },
    {
      "cell_type": "code",
      "execution_count": null,
      "id": "f0c7a949",
      "metadata": {
        "id": "f0c7a949",
        "outputId": "0f102e82-69b5-44fa-cbfc-a00e09dd1908"
      },
      "outputs": [
        {
          "data": {
            "text/plain": [
              "CustomerID               -1.200000\n",
              "Age                      -0.671573\n",
              "Annual Income (k$)       -0.098487\n",
              "Spending Score (1-100)   -0.826629\n",
              "dtype: float64"
            ]
          },
          "execution_count": 28,
          "metadata": {},
          "output_type": "execute_result"
        }
      ],
      "source": [
        "#kurtosis \n",
        "data.kurtosis()"
      ]
    },
    {
      "cell_type": "code",
      "execution_count": null,
      "id": "1d86c760",
      "metadata": {
        "id": "1d86c760",
        "outputId": "8a4dfd97-e33f-4db0-a134-9b2be2cd7a8e"
      },
      "outputs": [
        {
          "data": {
            "text/plain": [
              "Female    112\n",
              "Male       88\n",
              "Name: Gender, dtype: int64"
            ]
          },
          "execution_count": 29,
          "metadata": {},
          "output_type": "execute_result"
        }
      ],
      "source": [
        "# value counts \n",
        "\n",
        "data['Gender'].value_counts()"
      ]
    },
    {
      "cell_type": "code",
      "execution_count": null,
      "id": "fc410d1a",
      "metadata": {
        "id": "fc410d1a",
        "outputId": "92993573-9e61-45c3-aca2-f241af421901"
      },
      "outputs": [
        {
          "data": {
            "text/html": [
              "<div>\n",
              "<style scoped>\n",
              "    .dataframe tbody tr th:only-of-type {\n",
              "        vertical-align: middle;\n",
              "    }\n",
              "\n",
              "    .dataframe tbody tr th {\n",
              "        vertical-align: top;\n",
              "    }\n",
              "\n",
              "    .dataframe thead th {\n",
              "        text-align: right;\n",
              "    }\n",
              "</style>\n",
              "<table border=\"1\" class=\"dataframe\">\n",
              "  <thead>\n",
              "    <tr style=\"text-align: right;\">\n",
              "      <th></th>\n",
              "      <th>CustomerID</th>\n",
              "      <th>Age</th>\n",
              "      <th>Annual Income (k$)</th>\n",
              "      <th>Spending Score (1-100)</th>\n",
              "    </tr>\n",
              "  </thead>\n",
              "  <tbody>\n",
              "    <tr>\n",
              "      <th>CustomerID</th>\n",
              "      <td>1.000000</td>\n",
              "      <td>-0.026763</td>\n",
              "      <td>0.977548</td>\n",
              "      <td>0.013835</td>\n",
              "    </tr>\n",
              "    <tr>\n",
              "      <th>Age</th>\n",
              "      <td>-0.026763</td>\n",
              "      <td>1.000000</td>\n",
              "      <td>-0.012398</td>\n",
              "      <td>-0.327227</td>\n",
              "    </tr>\n",
              "    <tr>\n",
              "      <th>Annual Income (k$)</th>\n",
              "      <td>0.977548</td>\n",
              "      <td>-0.012398</td>\n",
              "      <td>1.000000</td>\n",
              "      <td>0.009903</td>\n",
              "    </tr>\n",
              "    <tr>\n",
              "      <th>Spending Score (1-100)</th>\n",
              "      <td>0.013835</td>\n",
              "      <td>-0.327227</td>\n",
              "      <td>0.009903</td>\n",
              "      <td>1.000000</td>\n",
              "    </tr>\n",
              "  </tbody>\n",
              "</table>\n",
              "</div>"
            ],
            "text/plain": [
              "                        CustomerID       Age  Annual Income (k$)  \\\n",
              "CustomerID                1.000000 -0.026763            0.977548   \n",
              "Age                      -0.026763  1.000000           -0.012398   \n",
              "Annual Income (k$)        0.977548 -0.012398            1.000000   \n",
              "Spending Score (1-100)    0.013835 -0.327227            0.009903   \n",
              "\n",
              "                        Spending Score (1-100)  \n",
              "CustomerID                            0.013835  \n",
              "Age                                  -0.327227  \n",
              "Annual Income (k$)                    0.009903  \n",
              "Spending Score (1-100)                1.000000  "
            ]
          },
          "execution_count": 30,
          "metadata": {},
          "output_type": "execute_result"
        }
      ],
      "source": [
        "data.corr()"
      ]
    },
    {
      "cell_type": "code",
      "execution_count": null,
      "id": "0570cdab",
      "metadata": {
        "id": "0570cdab",
        "outputId": "11a37603-32f1-47e9-cc7d-68f0def8e7b7"
      },
      "outputs": [
        {
          "data": {
            "text/plain": [
              "array(['Male', 'Female'], dtype=object)"
            ]
          },
          "execution_count": 31,
          "metadata": {},
          "output_type": "execute_result"
        }
      ],
      "source": [
        "data['Gender'].unique()"
      ]
    },
    {
      "cell_type": "markdown",
      "id": "3753a5f1",
      "metadata": {
        "id": "3753a5f1"
      },
      "source": [
        "## 5. Check for Missing values and deal with them.\n",
        "\n"
      ]
    },
    {
      "cell_type": "code",
      "execution_count": null,
      "id": "8f48dafb",
      "metadata": {
        "id": "8f48dafb",
        "outputId": "ba365287-e3fc-453a-9349-021e0e8984fe"
      },
      "outputs": [
        {
          "data": {
            "text/plain": [
              "0"
            ]
          },
          "execution_count": 32,
          "metadata": {},
          "output_type": "execute_result"
        }
      ],
      "source": [
        "data.isna().any().sum()"
      ]
    },
    {
      "cell_type": "code",
      "execution_count": null,
      "id": "684141d9",
      "metadata": {
        "id": "684141d9",
        "outputId": "18cef22e-f8c4-4aed-bda4-b002d309b402"
      },
      "outputs": [
        {
          "data": {
            "text/plain": [
              "CustomerID                False\n",
              "Gender                    False\n",
              "Age                       False\n",
              "Annual Income (k$)        False\n",
              "Spending Score (1-100)    False\n",
              "dtype: bool"
            ]
          },
          "execution_count": 33,
          "metadata": {},
          "output_type": "execute_result"
        }
      ],
      "source": [
        "# checking missing values we use isnull() function\n",
        "data.isnull().any()"
      ]
    },
    {
      "cell_type": "code",
      "execution_count": null,
      "id": "88c038b6",
      "metadata": {
        "id": "88c038b6",
        "outputId": "6a9e5d11-fe70-4ffb-e625-d840d2c240e0"
      },
      "outputs": [
        {
          "data": {
            "text/plain": [
              "CustomerID                0\n",
              "Gender                    0\n",
              "Age                       0\n",
              "Annual Income (k$)        0\n",
              "Spending Score (1-100)    0\n",
              "dtype: int64"
            ]
          },
          "execution_count": 34,
          "metadata": {},
          "output_type": "execute_result"
        }
      ],
      "source": [
        "#check sum of all null values\n",
        "\n",
        "data.isnull().sum()\n"
      ]
    },
    {
      "cell_type": "markdown",
      "id": "2cb47b53",
      "metadata": {
        "id": "2cb47b53"
      },
      "source": [
        "\n",
        "## 6. Find the outliers and replace them outliers\n",
        "\n"
      ]
    },
    {
      "cell_type": "code",
      "execution_count": null,
      "id": "9f2719ef",
      "metadata": {
        "id": "9f2719ef",
        "outputId": "6212839b-8913-4aa3-8c8f-583fe98fca51"
      },
      "outputs": [
        {
          "data": {
            "text/html": [
              "<div>\n",
              "<style scoped>\n",
              "    .dataframe tbody tr th:only-of-type {\n",
              "        vertical-align: middle;\n",
              "    }\n",
              "\n",
              "    .dataframe tbody tr th {\n",
              "        vertical-align: top;\n",
              "    }\n",
              "\n",
              "    .dataframe thead th {\n",
              "        text-align: right;\n",
              "    }\n",
              "</style>\n",
              "<table border=\"1\" class=\"dataframe\">\n",
              "  <thead>\n",
              "    <tr style=\"text-align: right;\">\n",
              "      <th></th>\n",
              "      <th>CustomerID</th>\n",
              "      <th>Age</th>\n",
              "      <th>Annual Income (k$)</th>\n",
              "      <th>Spending Score (1-100)</th>\n",
              "    </tr>\n",
              "  </thead>\n",
              "  <tbody>\n",
              "    <tr>\n",
              "      <th>0.09</th>\n",
              "      <td>18.91</td>\n",
              "      <td>21.0</td>\n",
              "      <td>22.82</td>\n",
              "      <td>12.91</td>\n",
              "    </tr>\n",
              "    <tr>\n",
              "      <th>1.00</th>\n",
              "      <td>200.00</td>\n",
              "      <td>70.0</td>\n",
              "      <td>137.00</td>\n",
              "      <td>99.00</td>\n",
              "    </tr>\n",
              "  </tbody>\n",
              "</table>\n",
              "</div>"
            ],
            "text/plain": [
              "      CustomerID   Age  Annual Income (k$)  Spending Score (1-100)\n",
              "0.09       18.91  21.0               22.82                   12.91\n",
              "1.00      200.00  70.0              137.00                   99.00"
            ]
          },
          "execution_count": 35,
          "metadata": {},
          "output_type": "execute_result"
        }
      ],
      "source": [
        "qnt=data.quantile(q=(0.09,1.00))\n",
        "qnt"
      ]
    },
    {
      "cell_type": "code",
      "execution_count": null,
      "id": "2c68bad7",
      "metadata": {
        "id": "2c68bad7",
        "outputId": "70a53dc1-8585-4848-f830-a18ee3ad42ef"
      },
      "outputs": [
        {
          "data": {
            "text/plain": [
              "CustomerID                100.5\n",
              "Age                        36.0\n",
              "Annual Income (k$)         61.5\n",
              "Spending Score (1-100)     50.0\n",
              "dtype: float64"
            ]
          },
          "execution_count": 36,
          "metadata": {},
          "output_type": "execute_result"
        }
      ],
      "source": [
        "Q1 = data.Age.quantile(0.25)\n",
        "Q3 = data.Age.quantile(0.175)\n",
        "IQR = Q3 - Q1\n",
        "lower_limit = Q1 - 1.5 * IQR\n",
        "data.median(numeric_only=True)"
      ]
    },
    {
      "cell_type": "code",
      "execution_count": null,
      "id": "01d54bf9",
      "metadata": {
        "id": "01d54bf9",
        "outputId": "ecb2f2c4-ba2e-4e9f-f21f-9b4ec977b535"
      },
      "outputs": [
        {
          "data": {
            "text/plain": [
              "<AxesSubplot:xlabel='Age'>"
            ]
          },
          "execution_count": 37,
          "metadata": {},
          "output_type": "execute_result"
        },
        {
          "data": {
            "image/png": "[encoded data removed]",
            "text/plain": [
              "<Figure size 432x288 with 1 Axes>"
            ]
          },
          "metadata": {},
          "output_type": "display_data"
        }
      ],
      "source": [
        "sns.boxplot(x=data.Age)"
      ]
    },
    {
      "cell_type": "code",
      "execution_count": null,
      "id": "2e24d2ea",
      "metadata": {
        "id": "2e24d2ea",
        "outputId": "f2ec2178-1fb4-49d4-eb9b-d014884df651"
      },
      "outputs": [
        {
          "data": {
            "text/plain": [
              "<AxesSubplot:xlabel='Age'>"
            ]
          },
          "execution_count": 38,
          "metadata": {},
          "output_type": "execute_result"
        },
        {
          "data": {
            "image/png": "[encoded data removed]",
            "text/plain": [
              "<Figure size 432x288 with 1 Axes>"
            ]
          },
          "metadata": {},
          "output_type": "display_data"
        }
      ],
      "source": [
        "data['Age'] = np.where(data['Age'] < lower_limit, 7, data['Age'])\n",
        "sns.boxplot(x=data.Age,showfliers = False)"
      ]
    },
    {
      "cell_type": "markdown",
      "id": "2c121469",
      "metadata": {
        "id": "2c121469"
      },
      "source": [
        "## 7. Check for Categorical columns and perform encoding.\n"
      ]
    },
    {
      "cell_type": "code",
      "execution_count": null,
      "id": "e5835cd5",
      "metadata": {
        "id": "e5835cd5",
        "outputId": "1481e0c0-7886-4c52-b076-532a3667ec00"
      },
      "outputs": [
        {
          "data": {
            "text/html": [
              "<div>\n",
              "<style scoped>\n",
              "    .dataframe tbody tr th:only-of-type {\n",
              "        vertical-align: middle;\n",
              "    }\n",
              "\n",
              "    .dataframe tbody tr th {\n",
              "        vertical-align: top;\n",
              "    }\n",
              "\n",
              "    .dataframe thead th {\n",
              "        text-align: right;\n",
              "    }\n",
              "</style>\n",
              "<table border=\"1\" class=\"dataframe\">\n",
              "  <thead>\n",
              "    <tr style=\"text-align: right;\">\n",
              "      <th></th>\n",
              "      <th>CustomerID</th>\n",
              "      <th>Gender</th>\n",
              "      <th>Age</th>\n",
              "      <th>Annual Income (k$)</th>\n",
              "      <th>Spending Score (1-100)</th>\n",
              "    </tr>\n",
              "  </thead>\n",
              "  <tbody>\n",
              "    <tr>\n",
              "      <th>0</th>\n",
              "      <td>1</td>\n",
              "      <td>Male</td>\n",
              "      <td>7</td>\n",
              "      <td>15</td>\n",
              "      <td>39</td>\n",
              "    </tr>\n",
              "    <tr>\n",
              "      <th>1</th>\n",
              "      <td>2</td>\n",
              "      <td>Male</td>\n",
              "      <td>7</td>\n",
              "      <td>15</td>\n",
              "      <td>81</td>\n",
              "    </tr>\n",
              "  </tbody>\n",
              "</table>\n",
              "</div>"
            ],
            "text/plain": [
              "   CustomerID Gender  Age  Annual Income (k$)  Spending Score (1-100)\n",
              "0           1   Male    7                  15                      39\n",
              "1           2   Male    7                  15                      81"
            ]
          },
          "execution_count": 39,
          "metadata": {},
          "output_type": "execute_result"
        }
      ],
      "source": [
        "data.head(2)"
      ]
    },
    {
      "cell_type": "code",
      "execution_count": null,
      "id": "bf22a3c0",
      "metadata": {
        "id": "bf22a3c0"
      },
      "outputs": [],
      "source": [
        "data['Gender'].replace({'Male':1,'Female':0},inplace=True)"
      ]
    },
    {
      "cell_type": "code",
      "execution_count": null,
      "id": "7abf88be",
      "metadata": {
        "id": "7abf88be",
        "outputId": "2e6843aa-7b77-41be-d130-ac65f6d1540d"
      },
      "outputs": [
        {
          "data": {
            "text/html": [
              "<div>\n",
              "<style scoped>\n",
              "    .dataframe tbody tr th:only-of-type {\n",
              "        vertical-align: middle;\n",
              "    }\n",
              "\n",
              "    .dataframe tbody tr th {\n",
              "        vertical-align: top;\n",
              "    }\n",
              "\n",
              "    .dataframe thead th {\n",
              "        text-align: right;\n",
              "    }\n",
              "</style>\n",
              "<table border=\"1\" class=\"dataframe\">\n",
              "  <thead>\n",
              "    <tr style=\"text-align: right;\">\n",
              "      <th></th>\n",
              "      <th>CustomerID</th>\n",
              "      <th>Gender</th>\n",
              "      <th>Age</th>\n",
              "      <th>Annual Income (k$)</th>\n",
              "      <th>Spending Score (1-100)</th>\n",
              "    </tr>\n",
              "  </thead>\n",
              "  <tbody>\n",
              "    <tr>\n",
              "      <th>0</th>\n",
              "      <td>1</td>\n",
              "      <td>1</td>\n",
              "      <td>7</td>\n",
              "      <td>15</td>\n",
              "      <td>39</td>\n",
              "    </tr>\n",
              "    <tr>\n",
              "      <th>1</th>\n",
              "      <td>2</td>\n",
              "      <td>1</td>\n",
              "      <td>7</td>\n",
              "      <td>15</td>\n",
              "      <td>81</td>\n",
              "    </tr>\n",
              "    <tr>\n",
              "      <th>2</th>\n",
              "      <td>3</td>\n",
              "      <td>0</td>\n",
              "      <td>7</td>\n",
              "      <td>16</td>\n",
              "      <td>6</td>\n",
              "    </tr>\n",
              "    <tr>\n",
              "      <th>3</th>\n",
              "      <td>4</td>\n",
              "      <td>0</td>\n",
              "      <td>7</td>\n",
              "      <td>16</td>\n",
              "      <td>77</td>\n",
              "    </tr>\n",
              "    <tr>\n",
              "      <th>4</th>\n",
              "      <td>5</td>\n",
              "      <td>0</td>\n",
              "      <td>7</td>\n",
              "      <td>17</td>\n",
              "      <td>40</td>\n",
              "    </tr>\n",
              "  </tbody>\n",
              "</table>\n",
              "</div>"
            ],
            "text/plain": [
              "   CustomerID  Gender  Age  Annual Income (k$)  Spending Score (1-100)\n",
              "0           1       1    7                  15                      39\n",
              "1           2       1    7                  15                      81\n",
              "2           3       0    7                  16                       6\n",
              "3           4       0    7                  16                      77\n",
              "4           5       0    7                  17                      40"
            ]
          },
          "execution_count": 41,
          "metadata": {},
          "output_type": "execute_result"
        }
      ],
      "source": [
        "data.head()"
      ]
    },
    {
      "cell_type": "markdown",
      "id": "2c175efc",
      "metadata": {
        "id": "2c175efc"
      },
      "source": [
        "## 8. Scaling the data\n"
      ]
    },
    {
      "cell_type": "code",
      "execution_count": null,
      "id": "a6b15ae6",
      "metadata": {
        "id": "a6b15ae6",
        "outputId": "39fef4ed-cdd8-4e79-e06b-d4a5f28432e3"
      },
      "outputs": [
        {
          "data": {
            "text/plain": [
              "Index(['CustomerID', 'Gender', 'Age', 'Annual Income (k$)',\n",
              "       'Spending Score (1-100)'],\n",
              "      dtype='object')"
            ]
          },
          "execution_count": 42,
          "metadata": {},
          "output_type": "execute_result"
        }
      ],
      "source": [
        "x=data\n",
        "names=x.columns\n",
        "names"
      ]
    },
    {
      "cell_type": "code",
      "execution_count": null,
      "id": "6af92448",
      "metadata": {
        "id": "6af92448"
      },
      "outputs": [],
      "source": [
        "from sklearn.preprocessing import scale"
      ]
    },
    {
      "cell_type": "code",
      "execution_count": null,
      "id": "9318c15d",
      "metadata": {
        "id": "9318c15d",
        "outputId": "2bdfa82c-85f3-4e89-d13e-a420c1bc3e00"
      },
      "outputs": [
        {
          "data": {
            "text/plain": [
              "array([[-1.7234121 ,  1.12815215, -1.04704552, -1.73899919, -0.43480148],\n",
              "       [-1.70609137,  1.12815215, -1.04704552, -1.73899919,  1.19570407],\n",
              "       [-1.68877065, -0.88640526, -1.04704552, -1.70082976, -1.71591298],\n",
              "       [-1.67144992, -0.88640526, -1.04704552, -1.70082976,  1.04041783],\n",
              "       [-1.6541292 , -0.88640526, -1.04704552, -1.66266033, -0.39597992],\n",
              "       [-1.63680847, -0.88640526, -1.04704552, -1.66266033,  1.00159627],\n",
              "       [-1.61948775, -0.88640526,  0.21690251, -1.62449091, -1.71591298],\n",
              "       [-1.60216702, -0.88640526, -1.04704552, -1.62449091,  1.70038436],\n",
              "       [-1.5848463 ,  1.12815215,  1.52599154, -1.58632148, -1.83237767],\n",
              "       [-1.56752558, -0.88640526, -1.04704552, -1.58632148,  0.84631002],\n",
              "       [-1.55020485,  1.12815215,  1.66141454, -1.58632148, -1.4053405 ],\n",
              "       [-1.53288413, -0.88640526,  0.21690251, -1.58632148,  1.89449216],\n",
              "       [-1.5155634 , -0.88640526,  1.25514553, -1.54815205, -1.36651894],\n",
              "       [-1.49824268, -0.88640526, -1.04704552, -1.54815205,  1.04041783],\n",
              "       [-1.48092195,  1.12815215,  0.30718451, -1.54815205, -1.44416206],\n",
              "       [-1.46360123,  1.12815215, -1.04704552, -1.54815205,  1.11806095],\n",
              "       [-1.4462805 , -0.88640526,  0.21690251, -1.50998262, -0.59008772],\n",
              "       [-1.42895978,  1.12815215, -1.04704552, -1.50998262,  0.61338066],\n",
              "       [-1.41163905,  1.12815215,  0.98429952, -1.43364376, -0.82301709],\n",
              "       [-1.39431833, -0.88640526,  0.21690251, -1.43364376,  1.8556706 ],\n",
              "       [-1.3769976 ,  1.12815215,  0.21690251, -1.39547433, -0.59008772],\n",
              "       [-1.35967688,  1.12815215, -1.04704552, -1.39547433,  0.88513158],\n",
              "       [-1.34235616, -0.88640526,  0.71345352, -1.3573049 , -1.75473454],\n",
              "       [-1.32503543,  1.12815215, -1.04704552, -1.3573049 ,  0.88513158],\n",
              "       [-1.30771471, -0.88640526,  1.07458153, -1.24279661, -1.4053405 ],\n",
              "       [-1.29039398,  1.12815215, -1.04704552, -1.24279661,  1.23452563],\n",
              "       [-1.27307326, -0.88640526,  0.66831252, -1.24279661, -0.7065524 ],\n",
              "       [-1.25575253,  1.12815215,  0.21690251, -1.24279661,  0.41927286],\n",
              "       [-1.23843181, -0.88640526,  0.44260751, -1.20462718, -0.74537397],\n",
              "       [-1.22111108, -0.88640526, -1.04704552, -1.20462718,  1.42863343],\n",
              "       [-1.20379036,  1.12815215,  1.34542753, -1.16645776, -1.7935561 ],\n",
              "       [-1.18646963, -0.88640526, -1.04704552, -1.16645776,  0.88513158],\n",
              "       [-1.16914891,  1.12815215,  1.02944053, -1.05194947, -1.7935561 ],\n",
              "       [-1.15182818,  1.12815215, -1.04704552, -1.05194947,  1.62274124],\n",
              "       [-1.13450746, -0.88640526,  0.84887652, -1.05194947, -1.4053405 ],\n",
              "       [-1.11718674, -0.88640526, -1.04704552, -1.05194947,  1.19570407],\n",
              "       [-1.09986601, -0.88640526,  0.53288952, -1.01378004, -1.28887582],\n",
              "       [-1.08254529, -0.88640526, -1.04704552, -1.01378004,  0.88513158],\n",
              "       [-1.06522456, -0.88640526,  0.26204351, -0.89927175, -0.93948177],\n",
              "       [-1.04790384, -0.88640526, -1.04704552, -0.89927175,  0.96277471],\n",
              "       [-1.03058311, -0.88640526,  1.57113254, -0.86110232, -0.59008772],\n",
              "       [-1.01326239,  1.12815215, -1.04704552, -0.86110232,  1.62274124],\n",
              "       [-0.99594166,  1.12815215,  0.80373552, -0.82293289, -0.55126616],\n",
              "       [-0.97862094, -0.88640526, -1.04704552, -0.82293289,  0.41927286],\n",
              "       [-0.96130021, -0.88640526,  0.84887652, -0.82293289, -0.86183865],\n",
              "       [-0.94397949, -0.88640526, -1.04704552, -0.82293289,  0.5745591 ],\n",
              "       [-0.92665877, -0.88640526,  0.89401752, -0.78476346,  0.18634349],\n",
              "       [-0.90933804, -0.88640526, -1.04704552, -0.78476346, -0.12422899],\n",
              "       [-0.89201732, -0.88640526, -1.04704552, -0.78476346, -0.3183368 ],\n",
              "       [-0.87469659, -0.88640526, -1.04704552, -0.78476346, -0.3183368 ],\n",
              "       [-0.85737587, -0.88640526,  0.84887652, -0.70842461,  0.06987881],\n",
              "       [-0.84005514,  1.12815215, -1.04704552, -0.70842461,  0.38045129],\n",
              "       [-0.82273442, -0.88640526, -1.04704552, -0.67025518,  0.14752193],\n",
              "       [-0.80541369,  1.12815215,  1.30028653, -0.67025518,  0.38045129],\n",
              "       [-0.78809297, -0.88640526,  0.89401752, -0.67025518, -0.20187212],\n",
              "       [-0.77077224,  1.12815215,  0.75859452, -0.67025518, -0.35715836],\n",
              "       [-0.75345152, -0.88640526,  0.93915852, -0.63208575, -0.00776431],\n",
              "       [-0.73613079,  1.12815215,  1.75169654, -0.63208575, -0.16305055],\n",
              "       [-0.71881007, -0.88640526, -1.04704552, -0.55574689,  0.03105725],\n",
              "       [-0.70148935,  1.12815215,  1.02944053, -0.55574689, -0.16305055],\n",
              "       [-0.68416862,  1.12815215,  1.79683754, -0.55574689,  0.22516505],\n",
              "       [-0.6668479 ,  1.12815215, -1.04704552, -0.55574689,  0.18634349],\n",
              "       [-0.64952717, -0.88640526,  1.66141454, -0.51757746,  0.06987881],\n",
              "       [-0.63220645, -0.88640526,  1.07458153, -0.51757746,  0.34162973],\n",
              "       [-0.61488572,  1.12815215,  1.48085053, -0.47940803,  0.03105725],\n",
              "       [-0.597565  ,  1.12815215, -1.04704552, -0.47940803,  0.34162973],\n",
              "       [-0.58024427, -0.88640526,  0.57803052, -0.47940803, -0.00776431],\n",
              "       [-0.56292355, -0.88640526,  1.70655554, -0.47940803, -0.08540743],\n",
              "       [-0.54560282,  1.12815215, -1.04704552, -0.47940803,  0.34162973],\n",
              "       [-0.5282821 , -0.88640526, -1.04704552, -0.47940803, -0.12422899],\n",
              "       [-0.51096138,  1.12815215,  1.79683754, -0.4412386 ,  0.18634349],\n",
              "       [-0.49364065, -0.88640526,  0.75859452, -0.4412386 , -0.3183368 ],\n",
              "       [-0.47631993, -0.88640526,  1.34542753, -0.40306917, -0.04658587],\n",
              "       [-0.4589992 , -0.88640526,  1.34542753, -0.40306917,  0.22516505],\n",
              "       [-0.44167848,  1.12815215,  1.30028653, -0.25039146, -0.12422899],\n",
              "       [-0.42435775,  1.12815215, -1.04704552, -0.25039146,  0.14752193],\n",
              "       [-0.40703703, -0.88640526,  0.66831252, -0.25039146,  0.10870037],\n",
              "       [-0.3897163 ,  1.12815215,  0.44260751, -0.25039146, -0.08540743],\n",
              "       [-0.37239558, -0.88640526, -1.04704552, -0.25039146,  0.06987881],\n",
              "       [-0.35507485, -0.88640526,  0.84887652, -0.25039146, -0.3183368 ],\n",
              "       [-0.33775413,  1.12815215,  1.21000453, -0.25039146,  0.03105725],\n",
              "       [-0.3204334 ,  1.12815215,  0.35232551, -0.25039146,  0.18634349],\n",
              "       [-0.30311268,  1.12815215,  1.66141454, -0.25039146, -0.35715836],\n",
              "       [-0.28579196, -0.88640526,  0.71345352, -0.25039146, -0.24069368],\n",
              "       [-0.26847123, -0.88640526, -1.04704552, -0.25039146,  0.26398661],\n",
              "       [-0.25115051,  1.12815215,  0.80373552, -0.25039146, -0.16305055],\n",
              "       [-0.23382978, -0.88640526,  1.11972253, -0.13588317,  0.30280817],\n",
              "       [-0.21650906, -0.88640526, -1.04704552, -0.13588317,  0.18634349],\n",
              "       [-0.19918833, -0.88640526, -1.04704552, -0.09771374,  0.38045129],\n",
              "       [-0.18186761, -0.88640526,  0.89401752, -0.09771374, -0.16305055],\n",
              "       [-0.16454688, -0.88640526,  1.70655554, -0.05954431,  0.18634349],\n",
              "       [-0.14722616,  1.12815215, -1.04704552, -0.05954431, -0.35715836],\n",
              "       [-0.12990543,  1.12815215,  0.80373552, -0.02137488, -0.04658587],\n",
              "       [-0.11258471, -0.88640526,  0.44260751, -0.02137488, -0.39597992],\n",
              "       [-0.09526399, -0.88640526, -1.04704552, -0.02137488, -0.3183368 ],\n",
              "       [-0.07794326,  1.12815215, -1.04704552, -0.02137488,  0.06987881],\n",
              "       [-0.06062254, -0.88640526,  0.75859452, -0.02137488, -0.12422899],\n",
              "       [-0.04330181, -0.88640526, -1.04704552, -0.02137488, -0.00776431],\n",
              "       [-0.02598109,  1.12815215,  0.80373552,  0.01679455, -0.3183368 ],\n",
              "       [-0.00866036,  1.12815215, -1.04704552,  0.01679455, -0.04658587],\n",
              "       [ 0.00866036, -0.88640526, -1.04704552,  0.05496398, -0.35715836],\n",
              "       [ 0.02598109, -0.88640526,  0.84887652,  0.05496398, -0.08540743],\n",
              "       [ 0.04330181,  1.12815215,  1.66141454,  0.05496398,  0.34162973],\n",
              "       [ 0.06062254,  1.12815215, -1.04704552,  0.05496398,  0.18634349],\n",
              "       [ 0.07794326,  1.12815215,  0.84887652,  0.05496398,  0.22516505],\n",
              "       [ 0.09526399, -0.88640526, -1.04704552,  0.05496398, -0.3183368 ],\n",
              "       [ 0.11258471, -0.88640526,  1.61627354,  0.09313341, -0.00776431],\n",
              "       [ 0.12990543,  1.12815215,  1.07458153,  0.09313341, -0.16305055],\n",
              "       [ 0.14722616,  1.12815215,  1.70655554,  0.09313341, -0.27951524],\n",
              "       [ 0.16454688,  1.12815215,  1.61627354,  0.09313341, -0.08540743],\n",
              "       [ 0.18186761,  1.12815215,  1.57113254,  0.09313341,  0.06987881],\n",
              "       [ 0.19918833, -0.88640526, -1.04704552,  0.09313341,  0.14752193],\n",
              "       [ 0.21650906, -0.88640526,  0.35232551,  0.13130284, -0.3183368 ],\n",
              "       [ 0.23382978,  1.12815215, -1.04704552,  0.13130284, -0.16305055],\n",
              "       [ 0.25115051, -0.88640526, -1.04704552,  0.16947227, -0.08540743],\n",
              "       [ 0.26847123, -0.88640526, -1.04704552,  0.16947227, -0.00776431],\n",
              "       [ 0.28579196, -0.88640526,  1.48085053,  0.16947227, -0.27951524],\n",
              "       [ 0.30311268, -0.88640526,  0.84887652,  0.16947227,  0.34162973],\n",
              "       [ 0.3204334 , -0.88640526,  0.93915852,  0.24581112, -0.27951524],\n",
              "       [ 0.33775413, -0.88640526,  0.89401752,  0.24581112,  0.26398661],\n",
              "       [ 0.35507485,  1.12815215, -1.04704552,  0.24581112,  0.22516505],\n",
              "       [ 0.37239558, -0.88640526,  0.35232551,  0.24581112, -0.39597992],\n",
              "       [ 0.3897163 , -0.88640526,  0.44260751,  0.32214998,  0.30280817],\n",
              "       [ 0.40703703,  1.12815215,  0.39746651,  0.32214998,  1.58391968],\n",
              "       [ 0.42435775, -0.88640526, -1.04704552,  0.36031941, -0.82301709],\n",
              "       [ 0.44167848, -0.88640526, -1.04704552,  0.36031941,  1.04041783],\n",
              "       [ 0.4589992 ,  1.12815215,  0.57803052,  0.39848884, -0.59008772],\n",
              "       [ 0.47631993,  1.12815215,  0.44260751,  0.39848884,  1.73920592],\n",
              "       [ 0.49364065,  1.12815215,  1.30028653,  0.39848884, -1.52180518],\n",
              "       [ 0.51096138,  1.12815215,  0.35232551,  0.39848884,  0.96277471],\n",
              "       [ 0.5282821 ,  1.12815215,  0.75859452,  0.39848884, -1.5994483 ],\n",
              "       [ 0.54560282,  1.12815215,  0.39746651,  0.39848884,  0.96277471],\n",
              "       [ 0.56292355, -0.88640526, -1.04704552,  0.43665827, -0.62890928],\n",
              "       [ 0.58024427, -0.88640526, -1.04704552,  0.43665827,  0.80748846],\n",
              "       [ 0.597565  ,  1.12815215, -1.04704552,  0.4748277 , -1.75473454],\n",
              "       [ 0.61488572, -0.88640526, -1.04704552,  0.4748277 ,  1.46745499],\n",
              "       [ 0.63220645, -0.88640526,  0.62317152,  0.4748277 , -1.67709142],\n",
              "       [ 0.64952717,  1.12815215, -1.04704552,  0.4748277 ,  0.88513158],\n",
              "       [ 0.6668479 ,  1.12815215, -1.04704552,  0.51299713, -1.56062674],\n",
              "       [ 0.68416862, -0.88640526,  0.21690251,  0.51299713,  0.84631002],\n",
              "       [ 0.70148935, -0.88640526,  1.21000453,  0.55116656, -1.75473454],\n",
              "       [ 0.71881007,  1.12815215, -1.04704552,  0.55116656,  1.6615628 ],\n",
              "       [ 0.73613079, -0.88640526, -1.04704552,  0.58933599, -0.39597992],\n",
              "       [ 0.75345152, -0.88640526, -1.04704552,  0.58933599,  1.42863343],\n",
              "       [ 0.77077224,  1.12815215, -1.04704552,  0.62750542, -1.48298362],\n",
              "       [ 0.78809297,  1.12815215, -1.04704552,  0.62750542,  1.81684904],\n",
              "       [ 0.80541369,  1.12815215,  0.80373552,  0.62750542, -0.55126616],\n",
              "       [ 0.82273442, -0.88640526, -1.04704552,  0.62750542,  0.92395314],\n",
              "       [ 0.84005514, -0.88640526, -1.04704552,  0.66567484, -1.09476801],\n",
              "       [ 0.85737587,  1.12815215, -1.04704552,  0.66567484,  1.54509812],\n",
              "       [ 0.87469659,  1.12815215,  0.57803052,  0.66567484, -1.28887582],\n",
              "       [ 0.89201732,  1.12815215,  0.39746651,  0.66567484,  1.46745499],\n",
              "       [ 0.90933804, -0.88640526,  0.62317152,  0.66567484, -1.17241113],\n",
              "       [ 0.92665877, -0.88640526,  0.35232551,  0.66567484,  1.00159627],\n",
              "       [ 0.94397949, -0.88640526,  0.75859452,  0.66567484, -1.32769738],\n",
              "       [ 0.96130021, -0.88640526, -1.04704552,  0.66567484,  1.50627656],\n",
              "       [ 0.97862094,  1.12815215,  0.30718451,  0.66567484, -1.91002079],\n",
              "       [ 0.99594166, -0.88640526, -1.04704552,  0.66567484,  1.07923939],\n",
              "       [ 1.01326239,  1.12815215, -1.04704552,  0.66567484, -1.91002079],\n",
              "       [ 1.03058311, -0.88640526, -1.04704552,  0.66567484,  0.88513158],\n",
              "       [ 1.04790384, -0.88640526,  1.16486353,  0.70384427, -0.59008772],\n",
              "       [ 1.06522456, -0.88640526, -1.04704552,  0.70384427,  1.27334719],\n",
              "       [ 1.08254529,  1.12815215, -1.04704552,  0.78018313, -1.75473454],\n",
              "       [ 1.09986601, -0.88640526, -1.04704552,  0.78018313,  1.6615628 ],\n",
              "       [ 1.11718674,  1.12815215,  0.89401752,  0.93286085, -0.93948177],\n",
              "       [ 1.13450746, -0.88640526,  0.26204351,  0.93286085,  0.96277471],\n",
              "       [ 1.15182818,  1.12815215,  0.53288952,  0.97103028, -1.17241113],\n",
              "       [ 1.16914891, -0.88640526, -1.04704552,  0.97103028,  1.73920592],\n",
              "       [ 1.18646963, -0.88640526,  0.26204351,  1.00919971, -0.90066021],\n",
              "       [ 1.20379036,  1.12815215, -1.04704552,  1.00919971,  0.49691598],\n",
              "       [ 1.22111108,  1.12815215,  0.44260751,  1.00919971, -1.44416206],\n",
              "       [ 1.23843181,  1.12815215, -1.04704552,  1.00919971,  0.96277471],\n",
              "       [ 1.25575253,  1.12815215,  0.26204351,  1.00919971, -1.56062674],\n",
              "       [ 1.27307326,  1.12815215,  0.26204351,  1.00919971,  1.62274124],\n",
              "       [ 1.29039398, -0.88640526,  0.98429952,  1.04736914, -1.44416206],\n",
              "       [ 1.30771471, -0.88640526, -1.04704552,  1.04736914,  1.38981187],\n",
              "       [ 1.32503543,  1.12815215,  1.25514553,  1.04736914, -1.36651894],\n",
              "       [ 1.34235616,  1.12815215, -1.04704552,  1.04736914,  0.72984534],\n",
              "       [ 1.35967688,  1.12815215,  1.30028653,  1.23821628, -1.4053405 ],\n",
              "       [ 1.3769976 ,  1.12815215,  0.21690251,  1.23821628,  1.54509812],\n",
              "       [ 1.39431833, -0.88640526,  0.30718451,  1.390894  , -0.7065524 ],\n",
              "       [ 1.41163905, -0.88640526, -1.04704552,  1.390894  ,  1.38981187],\n",
              "       [ 1.42895978,  1.12815215,  0.71345352,  1.42906343, -1.36651894],\n",
              "       [ 1.4462805 , -0.88640526, -1.04704552,  1.42906343,  1.46745499],\n",
              "       [ 1.46360123, -0.88640526,  0.48774851,  1.46723286, -0.43480148],\n",
              "       [ 1.48092195,  1.12815215, -1.04704552,  1.46723286,  1.81684904],\n",
              "       [ 1.49824268, -0.88640526,  1.07458153,  1.54357172, -1.01712489],\n",
              "       [ 1.5155634 ,  1.12815215, -1.04704552,  1.54357172,  0.69102378],\n",
              "       [ 1.53288413, -0.88640526,  0.48774851,  1.61991057, -1.28887582],\n",
              "       [ 1.55020485, -0.88640526,  0.26204351,  1.61991057,  1.35099031],\n",
              "       [ 1.56752558, -0.88640526, -1.04704552,  1.61991057, -1.05594645],\n",
              "       [ 1.5848463 , -0.88640526, -1.04704552,  1.61991057,  0.72984534],\n",
              "       [ 1.60216702,  1.12815215, -1.04704552,  2.00160487, -1.63826986],\n",
              "       [ 1.61948775, -0.88640526,  0.35232551,  2.00160487,  1.58391968],\n",
              "       [ 1.63680847, -0.88640526,  0.75859452,  2.26879087, -1.32769738],\n",
              "       [ 1.6541292 , -0.88640526,  0.21690251,  2.26879087,  1.11806095],\n",
              "       [ 1.67144992, -0.88640526,  0.66831252,  2.49780745, -0.86183865],\n",
              "       [ 1.68877065,  1.12815215, -1.04704552,  2.49780745,  0.92395314],\n",
              "       [ 1.70609137,  1.12815215, -1.04704552,  2.91767117, -1.25005425],\n",
              "       [ 1.7234121 ,  1.12815215, -1.04704552,  2.91767117,  1.27334719]])"
            ]
          },
          "execution_count": 44,
          "metadata": {},
          "output_type": "execute_result"
        }
      ],
      "source": [
        "x=scale(x)  \n",
        "\n",
        "x"
      ]
    },
    {
      "cell_type": "code",
      "execution_count": null,
      "id": "7670e553",
      "metadata": {
        "id": "7670e553",
        "outputId": "09e137ca-675d-49e1-f172-d3aaf3e1faf0"
      },
      "outputs": [
        {
          "data": {
            "text/html": [
              "<div>\n",
              "<style scoped>\n",
              "    .dataframe tbody tr th:only-of-type {\n",
              "        vertical-align: middle;\n",
              "    }\n",
              "\n",
              "    .dataframe tbody tr th {\n",
              "        vertical-align: top;\n",
              "    }\n",
              "\n",
              "    .dataframe thead th {\n",
              "        text-align: right;\n",
              "    }\n",
              "</style>\n",
              "<table border=\"1\" class=\"dataframe\">\n",
              "  <thead>\n",
              "    <tr style=\"text-align: right;\">\n",
              "      <th></th>\n",
              "      <th>CustomerID</th>\n",
              "      <th>Gender</th>\n",
              "      <th>Age</th>\n",
              "      <th>Annual Income (k$)</th>\n",
              "      <th>Spending Score (1-100)</th>\n",
              "    </tr>\n",
              "  </thead>\n",
              "  <tbody>\n",
              "    <tr>\n",
              "      <th>0</th>\n",
              "      <td>-1.723412</td>\n",
              "      <td>1.128152</td>\n",
              "      <td>-1.047046</td>\n",
              "      <td>-1.738999</td>\n",
              "      <td>-0.434801</td>\n",
              "    </tr>\n",
              "    <tr>\n",
              "      <th>1</th>\n",
              "      <td>-1.706091</td>\n",
              "      <td>1.128152</td>\n",
              "      <td>-1.047046</td>\n",
              "      <td>-1.738999</td>\n",
              "      <td>1.195704</td>\n",
              "    </tr>\n",
              "    <tr>\n",
              "      <th>2</th>\n",
              "      <td>-1.688771</td>\n",
              "      <td>-0.886405</td>\n",
              "      <td>-1.047046</td>\n",
              "      <td>-1.700830</td>\n",
              "      <td>-1.715913</td>\n",
              "    </tr>\n",
              "    <tr>\n",
              "      <th>3</th>\n",
              "      <td>-1.671450</td>\n",
              "      <td>-0.886405</td>\n",
              "      <td>-1.047046</td>\n",
              "      <td>-1.700830</td>\n",
              "      <td>1.040418</td>\n",
              "    </tr>\n",
              "    <tr>\n",
              "      <th>4</th>\n",
              "      <td>-1.654129</td>\n",
              "      <td>-0.886405</td>\n",
              "      <td>-1.047046</td>\n",
              "      <td>-1.662660</td>\n",
              "      <td>-0.395980</td>\n",
              "    </tr>\n",
              "    <tr>\n",
              "      <th>...</th>\n",
              "      <td>...</td>\n",
              "      <td>...</td>\n",
              "      <td>...</td>\n",
              "      <td>...</td>\n",
              "      <td>...</td>\n",
              "    </tr>\n",
              "    <tr>\n",
              "      <th>195</th>\n",
              "      <td>1.654129</td>\n",
              "      <td>-0.886405</td>\n",
              "      <td>0.216903</td>\n",
              "      <td>2.268791</td>\n",
              "      <td>1.118061</td>\n",
              "    </tr>\n",
              "    <tr>\n",
              "      <th>196</th>\n",
              "      <td>1.671450</td>\n",
              "      <td>-0.886405</td>\n",
              "      <td>0.668313</td>\n",
              "      <td>2.497807</td>\n",
              "      <td>-0.861839</td>\n",
              "    </tr>\n",
              "    <tr>\n",
              "      <th>197</th>\n",
              "      <td>1.688771</td>\n",
              "      <td>1.128152</td>\n",
              "      <td>-1.047046</td>\n",
              "      <td>2.497807</td>\n",
              "      <td>0.923953</td>\n",
              "    </tr>\n",
              "    <tr>\n",
              "      <th>198</th>\n",
              "      <td>1.706091</td>\n",
              "      <td>1.128152</td>\n",
              "      <td>-1.047046</td>\n",
              "      <td>2.917671</td>\n",
              "      <td>-1.250054</td>\n",
              "    </tr>\n",
              "    <tr>\n",
              "      <th>199</th>\n",
              "      <td>1.723412</td>\n",
              "      <td>1.128152</td>\n",
              "      <td>-1.047046</td>\n",
              "      <td>2.917671</td>\n",
              "      <td>1.273347</td>\n",
              "    </tr>\n",
              "  </tbody>\n",
              "</table>\n",
              "<p>200 rows × 5 columns</p>\n",
              "</div>"
            ],
            "text/plain": [
              "     CustomerID    Gender       Age  Annual Income (k$)  \\\n",
              "0     -1.723412  1.128152 -1.047046           -1.738999   \n",
              "1     -1.706091  1.128152 -1.047046           -1.738999   \n",
              "2     -1.688771 -0.886405 -1.047046           -1.700830   \n",
              "3     -1.671450 -0.886405 -1.047046           -1.700830   \n",
              "4     -1.654129 -0.886405 -1.047046           -1.662660   \n",
              "..          ...       ...       ...                 ...   \n",
              "195    1.654129 -0.886405  0.216903            2.268791   \n",
              "196    1.671450 -0.886405  0.668313            2.497807   \n",
              "197    1.688771  1.128152 -1.047046            2.497807   \n",
              "198    1.706091  1.128152 -1.047046            2.917671   \n",
              "199    1.723412  1.128152 -1.047046            2.917671   \n",
              "\n",
              "     Spending Score (1-100)  \n",
              "0                 -0.434801  \n",
              "1                  1.195704  \n",
              "2                 -1.715913  \n",
              "3                  1.040418  \n",
              "4                 -0.395980  \n",
              "..                      ...  \n",
              "195                1.118061  \n",
              "196               -0.861839  \n",
              "197                0.923953  \n",
              "198               -1.250054  \n",
              "199                1.273347  \n",
              "\n",
              "[200 rows x 5 columns]"
            ]
          },
          "execution_count": 45,
          "metadata": {},
          "output_type": "execute_result"
        }
      ],
      "source": [
        "x=pd.DataFrame(x,columns=names)\n",
        "x"
      ]
    },
    {
      "cell_type": "markdown",
      "id": "334c459b",
      "metadata": {
        "id": "334c459b"
      },
      "source": [
        "## 9. Perform any of the clustering algorithms"
      ]
    },
    {
      "cell_type": "code",
      "execution_count": null,
      "id": "84c746bd",
      "metadata": {
        "id": "84c746bd"
      },
      "outputs": [],
      "source": [
        "#Kmeans clustering\n",
        "from sklearn.cluster import KMeans"
      ]
    },
    {
      "cell_type": "code",
      "execution_count": null,
      "id": "5073cb9a",
      "metadata": {
        "id": "5073cb9a"
      },
      "outputs": [],
      "source": [
        "PJAA=[]\n",
        "k=list(range(2,9))\n",
        "\n",
        "for i in k:\n",
        "    kmeans=KMeans(n_clusters=i,init='k-means++')\n",
        "    kmeans.fit(data)\n",
        "    PJAA.append(kmeans.inertia_)"
      ]
    },
    {
      "cell_type": "code",
      "execution_count": null,
      "id": "13e71cf4",
      "metadata": {
        "id": "13e71cf4",
        "outputId": "2bdbfb2b-e1dd-4083-96c6-e992eb3be95f"
      },
      "outputs": [
        {
          "data": {
            "text/plain": [
              "[445698.6278627863,\n",
              " 325787.0907427487,\n",
              " 245928.94489549997,\n",
              " 195453.9732751384,\n",
              " 158881.73689847533,\n",
              " 137562.91562438826,\n",
              " 118815.44613569911]"
            ]
          },
          "execution_count": 49,
          "metadata": {},
          "output_type": "execute_result"
        }
      ],
      "source": [
        "PJAA"
      ]
    },
    {
      "cell_type": "code",
      "execution_count": null,
      "id": "debe4be7",
      "metadata": {
        "id": "debe4be7",
        "outputId": "0f402007-ed74-4414-913c-1eeb7d7d81a7"
      },
      "outputs": [
        {
          "data": {
            "text/plain": [
              "Text(0, 0.5, 'PJAA')"
            ]
          },
          "execution_count": 50,
          "metadata": {},
          "output_type": "execute_result"
        },
        {
          "data": {
            "image/png": "[encoded data removed]",
            "text/plain": [
              "<Figure size 432x288 with 1 Axes>"
            ]
          },
          "metadata": {},
          "output_type": "display_data"
        }
      ],
      "source": [
        "plt.plot(k,PJAA,'ro--')\n",
        "plt.xlabel('no of cluster')\n",
        "plt.ylabel('PJAA')"
      ]
    },
    {
      "cell_type": "code",
      "execution_count": null,
      "id": "25bfc4e4",
      "metadata": {
        "id": "25bfc4e4",
        "outputId": "258caaeb-270e-4d0f-86fa-b278192d2ae5"
      },
      "outputs": [
        {
          "data": {
            "text/plain": [
              "KMeans(n_clusters=4)"
            ]
          },
          "execution_count": 51,
          "metadata": {},
          "output_type": "execute_result"
        }
      ],
      "source": [
        "model=KMeans(n_clusters=4)\n",
        "\n",
        "model.fit(data)"
      ]
    },
    {
      "cell_type": "markdown",
      "id": "e0884b8d",
      "metadata": {
        "id": "e0884b8d"
      },
      "source": [
        "## 10. Add the cluster data with the primary dataset\n"
      ]
    },
    {
      "cell_type": "code",
      "execution_count": null,
      "id": "e14a7a72",
      "metadata": {
        "id": "e14a7a72",
        "outputId": "c2889dfc-9c38-4ab9-c225-6719fb89ca5f"
      },
      "outputs": [
        {
          "data": {
            "text/plain": [
              "array([1, 1, 1, 1, 1, 1, 1, 1, 1, 1, 1, 1, 1, 1, 1, 1, 1, 1, 1, 1, 1, 1,\n",
              "       1, 1, 1, 1, 1, 1, 1, 1, 1, 1, 1, 1, 1, 1, 1, 1, 1, 1, 1, 1, 1, 1,\n",
              "       1, 1, 1, 1, 1, 1, 1, 1, 1, 1, 1, 1, 1, 2, 1, 2, 2, 1, 2, 2, 2, 2,\n",
              "       2, 2, 2, 2, 2, 2, 2, 2, 2, 2, 2, 2, 2, 2, 2, 2, 2, 2, 2, 2, 2, 2,\n",
              "       2, 2, 2, 2, 2, 2, 2, 2, 2, 2, 2, 2, 2, 2, 2, 2, 2, 2, 2, 2, 2, 2,\n",
              "       2, 2, 2, 2, 2, 2, 2, 2, 2, 2, 2, 2, 2, 0, 2, 0, 2, 0, 3, 0, 3, 0,\n",
              "       3, 0, 3, 0, 3, 0, 3, 0, 3, 0, 3, 0, 3, 0, 3, 0, 3, 0, 3, 0, 3, 0,\n",
              "       3, 0, 3, 0, 3, 0, 3, 0, 3, 0, 3, 0, 3, 0, 3, 0, 3, 0, 3, 0, 3, 0,\n",
              "       3, 0, 3, 0, 3, 0, 3, 0, 3, 0, 3, 0, 3, 0, 3, 0, 3, 0, 3, 0, 3, 0,\n",
              "       3, 0])"
            ]
          },
          "execution_count": 52,
          "metadata": {},
          "output_type": "execute_result"
        }
      ],
      "source": [
        "model.labels_"
      ]
    },
    {
      "cell_type": "code",
      "execution_count": null,
      "id": "dc44e301",
      "metadata": {
        "id": "dc44e301"
      },
      "outputs": [],
      "source": [
        "mb=pd.Series(model.labels_)"
      ]
    },
    {
      "cell_type": "code",
      "execution_count": null,
      "id": "0ac27104",
      "metadata": {
        "id": "0ac27104",
        "outputId": "5e9949b6-ea6b-4e30-d43e-f1a60aa1b4ff"
      },
      "outputs": [
        {
          "data": {
            "text/html": [
              "<div>\n",
              "<style scoped>\n",
              "    .dataframe tbody tr th:only-of-type {\n",
              "        vertical-align: middle;\n",
              "    }\n",
              "\n",
              "    .dataframe tbody tr th {\n",
              "        vertical-align: top;\n",
              "    }\n",
              "\n",
              "    .dataframe thead th {\n",
              "        text-align: right;\n",
              "    }\n",
              "</style>\n",
              "<table border=\"1\" class=\"dataframe\">\n",
              "  <thead>\n",
              "    <tr style=\"text-align: right;\">\n",
              "      <th></th>\n",
              "      <th>CustomerID</th>\n",
              "      <th>Gender</th>\n",
              "      <th>Age</th>\n",
              "      <th>Annual Income (k$)</th>\n",
              "      <th>Spending Score (1-100)</th>\n",
              "    </tr>\n",
              "  </thead>\n",
              "  <tbody>\n",
              "    <tr>\n",
              "      <th>0</th>\n",
              "      <td>1</td>\n",
              "      <td>1</td>\n",
              "      <td>7</td>\n",
              "      <td>15</td>\n",
              "      <td>39</td>\n",
              "    </tr>\n",
              "    <tr>\n",
              "      <th>1</th>\n",
              "      <td>2</td>\n",
              "      <td>1</td>\n",
              "      <td>7</td>\n",
              "      <td>15</td>\n",
              "      <td>81</td>\n",
              "    </tr>\n",
              "    <tr>\n",
              "      <th>2</th>\n",
              "      <td>3</td>\n",
              "      <td>0</td>\n",
              "      <td>7</td>\n",
              "      <td>16</td>\n",
              "      <td>6</td>\n",
              "    </tr>\n",
              "  </tbody>\n",
              "</table>\n",
              "</div>"
            ],
            "text/plain": [
              "   CustomerID  Gender  Age  Annual Income (k$)  Spending Score (1-100)\n",
              "0           1       1    7                  15                      39\n",
              "1           2       1    7                  15                      81\n",
              "2           3       0    7                  16                       6"
            ]
          },
          "execution_count": 57,
          "metadata": {},
          "output_type": "execute_result"
        }
      ],
      "source": [
        "data.head(3)"
      ]
    },
    {
      "cell_type": "code",
      "execution_count": null,
      "id": "0d26b3c7",
      "metadata": {
        "id": "0d26b3c7"
      },
      "outputs": [],
      "source": [
        "data['clust']=mb"
      ]
    },
    {
      "cell_type": "code",
      "execution_count": null,
      "id": "5017b37f",
      "metadata": {
        "id": "5017b37f",
        "outputId": "fdac66e3-bc03-49f7-c76d-67369e3daf08"
      },
      "outputs": [
        {
          "data": {
            "text/html": [
              "<div>\n",
              "<style scoped>\n",
              "    .dataframe tbody tr th:only-of-type {\n",
              "        vertical-align: middle;\n",
              "    }\n",
              "\n",
              "    .dataframe tbody tr th {\n",
              "        vertical-align: top;\n",
              "    }\n",
              "\n",
              "    .dataframe thead th {\n",
              "        text-align: right;\n",
              "    }\n",
              "</style>\n",
              "<table border=\"1\" class=\"dataframe\">\n",
              "  <thead>\n",
              "    <tr style=\"text-align: right;\">\n",
              "      <th></th>\n",
              "      <th>CustomerID</th>\n",
              "      <th>Gender</th>\n",
              "      <th>Age</th>\n",
              "      <th>Annual Income (k$)</th>\n",
              "      <th>Spending Score (1-100)</th>\n",
              "      <th>clust</th>\n",
              "    </tr>\n",
              "  </thead>\n",
              "  <tbody>\n",
              "    <tr>\n",
              "      <th>0</th>\n",
              "      <td>1</td>\n",
              "      <td>1</td>\n",
              "      <td>7</td>\n",
              "      <td>15</td>\n",
              "      <td>39</td>\n",
              "      <td>1</td>\n",
              "    </tr>\n",
              "    <tr>\n",
              "      <th>1</th>\n",
              "      <td>2</td>\n",
              "      <td>1</td>\n",
              "      <td>7</td>\n",
              "      <td>15</td>\n",
              "      <td>81</td>\n",
              "      <td>1</td>\n",
              "    </tr>\n",
              "    <tr>\n",
              "      <th>2</th>\n",
              "      <td>3</td>\n",
              "      <td>0</td>\n",
              "      <td>7</td>\n",
              "      <td>16</td>\n",
              "      <td>6</td>\n",
              "      <td>1</td>\n",
              "    </tr>\n",
              "    <tr>\n",
              "      <th>3</th>\n",
              "      <td>4</td>\n",
              "      <td>0</td>\n",
              "      <td>7</td>\n",
              "      <td>16</td>\n",
              "      <td>77</td>\n",
              "      <td>1</td>\n",
              "    </tr>\n",
              "    <tr>\n",
              "      <th>4</th>\n",
              "      <td>5</td>\n",
              "      <td>0</td>\n",
              "      <td>7</td>\n",
              "      <td>17</td>\n",
              "      <td>40</td>\n",
              "      <td>1</td>\n",
              "    </tr>\n",
              "  </tbody>\n",
              "</table>\n",
              "</div>"
            ],
            "text/plain": [
              "   CustomerID  Gender  Age  Annual Income (k$)  Spending Score (1-100)  clust\n",
              "0           1       1    7                  15                      39      1\n",
              "1           2       1    7                  15                      81      1\n",
              "2           3       0    7                  16                       6      1\n",
              "3           4       0    7                  16                      77      1\n",
              "4           5       0    7                  17                      40      1"
            ]
          },
          "execution_count": 60,
          "metadata": {},
          "output_type": "execute_result"
        }
      ],
      "source": [
        "data.head()"
      ]
    },
    {
      "cell_type": "code",
      "execution_count": null,
      "id": "53e87aec",
      "metadata": {
        "id": "53e87aec",
        "outputId": "401c3cef-e8b2-4a55-efe9-e4de1f2a9c29"
      },
      "outputs": [
        {
          "data": {
            "text/html": [
              "<div>\n",
              "<style scoped>\n",
              "    .dataframe tbody tr th:only-of-type {\n",
              "        vertical-align: middle;\n",
              "    }\n",
              "\n",
              "    .dataframe tbody tr th {\n",
              "        vertical-align: top;\n",
              "    }\n",
              "\n",
              "    .dataframe thead th {\n",
              "        text-align: right;\n",
              "    }\n",
              "</style>\n",
              "<table border=\"1\" class=\"dataframe\">\n",
              "  <thead>\n",
              "    <tr style=\"text-align: right;\">\n",
              "      <th></th>\n",
              "      <th>CustomerID</th>\n",
              "      <th>Gender</th>\n",
              "      <th>Age</th>\n",
              "      <th>Annual Income (k$)</th>\n",
              "      <th>Spending Score (1-100)</th>\n",
              "      <th>clust</th>\n",
              "    </tr>\n",
              "  </thead>\n",
              "  <tbody>\n",
              "    <tr>\n",
              "      <th>195</th>\n",
              "      <td>196</td>\n",
              "      <td>0</td>\n",
              "      <td>35</td>\n",
              "      <td>120</td>\n",
              "      <td>79</td>\n",
              "      <td>0</td>\n",
              "    </tr>\n",
              "    <tr>\n",
              "      <th>196</th>\n",
              "      <td>197</td>\n",
              "      <td>0</td>\n",
              "      <td>45</td>\n",
              "      <td>126</td>\n",
              "      <td>28</td>\n",
              "      <td>3</td>\n",
              "    </tr>\n",
              "    <tr>\n",
              "      <th>197</th>\n",
              "      <td>198</td>\n",
              "      <td>1</td>\n",
              "      <td>7</td>\n",
              "      <td>126</td>\n",
              "      <td>74</td>\n",
              "      <td>0</td>\n",
              "    </tr>\n",
              "    <tr>\n",
              "      <th>198</th>\n",
              "      <td>199</td>\n",
              "      <td>1</td>\n",
              "      <td>7</td>\n",
              "      <td>137</td>\n",
              "      <td>18</td>\n",
              "      <td>3</td>\n",
              "    </tr>\n",
              "    <tr>\n",
              "      <th>199</th>\n",
              "      <td>200</td>\n",
              "      <td>1</td>\n",
              "      <td>7</td>\n",
              "      <td>137</td>\n",
              "      <td>83</td>\n",
              "      <td>0</td>\n",
              "    </tr>\n",
              "  </tbody>\n",
              "</table>\n",
              "</div>"
            ],
            "text/plain": [
              "     CustomerID  Gender  Age  Annual Income (k$)  Spending Score (1-100)  \\\n",
              "195         196       0   35                 120                      79   \n",
              "196         197       0   45                 126                      28   \n",
              "197         198       1    7                 126                      74   \n",
              "198         199       1    7                 137                      18   \n",
              "199         200       1    7                 137                      83   \n",
              "\n",
              "     clust  \n",
              "195      0  \n",
              "196      3  \n",
              "197      0  \n",
              "198      3  \n",
              "199      0  "
            ]
          },
          "execution_count": 61,
          "metadata": {},
          "output_type": "execute_result"
        }
      ],
      "source": [
        "data.tail()"
      ]
    },
    {
      "cell_type": "code",
      "execution_count": null,
      "id": "a3089933",
      "metadata": {
        "id": "a3089933"
      },
      "outputs": [],
      "source": [
        "data.to_csv('Kmeans_Mall_Customers.csv',encoding='utf-8')"
      ]
    },
    {
      "cell_type": "markdown",
      "id": "9ed29b6d",
      "metadata": {
        "id": "9ed29b6d"
      },
      "source": [
        "## 11. Split the data into dependent and independent variables.\n"
      ]
    },
    {
      "cell_type": "code",
      "execution_count": null,
      "id": "d0bca865",
      "metadata": {
        "id": "d0bca865",
        "outputId": "d9cd0fa2-3cc0-4d66-d3b7-6c6bc9103d75"
      },
      "outputs": [
        {
          "data": {
            "text/plain": [
              "array([[  1,   1,   7,  15,  39],\n",
              "       [  2,   1,   7,  15,  81],\n",
              "       [  3,   0,   7,  16,   6],\n",
              "       [  4,   0,   7,  16,  77],\n",
              "       [  5,   0,   7,  17,  40],\n",
              "       [  6,   0,   7,  17,  76],\n",
              "       [  7,   0,  35,  18,   6],\n",
              "       [  8,   0,   7,  18,  94],\n",
              "       [  9,   1,  64,  19,   3],\n",
              "       [ 10,   0,   7,  19,  72],\n",
              "       [ 11,   1,  67,  19,  14],\n",
              "       [ 12,   0,  35,  19,  99],\n",
              "       [ 13,   0,  58,  20,  15],\n",
              "       [ 14,   0,   7,  20,  77],\n",
              "       [ 15,   1,  37,  20,  13],\n",
              "       [ 16,   1,   7,  20,  79],\n",
              "       [ 17,   0,  35,  21,  35],\n",
              "       [ 18,   1,   7,  21,  66],\n",
              "       [ 19,   1,  52,  23,  29],\n",
              "       [ 20,   0,  35,  23,  98],\n",
              "       [ 21,   1,  35,  24,  35],\n",
              "       [ 22,   1,   7,  24,  73],\n",
              "       [ 23,   0,  46,  25,   5],\n",
              "       [ 24,   1,   7,  25,  73],\n",
              "       [ 25,   0,  54,  28,  14],\n",
              "       [ 26,   1,   7,  28,  82],\n",
              "       [ 27,   0,  45,  28,  32],\n",
              "       [ 28,   1,  35,  28,  61],\n",
              "       [ 29,   0,  40,  29,  31],\n",
              "       [ 30,   0,   7,  29,  87],\n",
              "       [ 31,   1,  60,  30,   4],\n",
              "       [ 32,   0,   7,  30,  73],\n",
              "       [ 33,   1,  53,  33,   4],\n",
              "       [ 34,   1,   7,  33,  92],\n",
              "       [ 35,   0,  49,  33,  14],\n",
              "       [ 36,   0,   7,  33,  81],\n",
              "       [ 37,   0,  42,  34,  17],\n",
              "       [ 38,   0,   7,  34,  73],\n",
              "       [ 39,   0,  36,  37,  26],\n",
              "       [ 40,   0,   7,  37,  75],\n",
              "       [ 41,   0,  65,  38,  35],\n",
              "       [ 42,   1,   7,  38,  92],\n",
              "       [ 43,   1,  48,  39,  36],\n",
              "       [ 44,   0,   7,  39,  61],\n",
              "       [ 45,   0,  49,  39,  28],\n",
              "       [ 46,   0,   7,  39,  65],\n",
              "       [ 47,   0,  50,  40,  55],\n",
              "       [ 48,   0,   7,  40,  47],\n",
              "       [ 49,   0,   7,  40,  42],\n",
              "       [ 50,   0,   7,  40,  42],\n",
              "       [ 51,   0,  49,  42,  52],\n",
              "       [ 52,   1,   7,  42,  60],\n",
              "       [ 53,   0,   7,  43,  54],\n",
              "       [ 54,   1,  59,  43,  60],\n",
              "       [ 55,   0,  50,  43,  45],\n",
              "       [ 56,   1,  47,  43,  41],\n",
              "       [ 57,   0,  51,  44,  50],\n",
              "       [ 58,   1,  69,  44,  46],\n",
              "       [ 59,   0,   7,  46,  51],\n",
              "       [ 60,   1,  53,  46,  46],\n",
              "       [ 61,   1,  70,  46,  56],\n",
              "       [ 62,   1,   7,  46,  55],\n",
              "       [ 63,   0,  67,  47,  52],\n",
              "       [ 64,   0,  54,  47,  59],\n",
              "       [ 65,   1,  63,  48,  51],\n",
              "       [ 66,   1,   7,  48,  59],\n",
              "       [ 67,   0,  43,  48,  50],\n",
              "       [ 68,   0,  68,  48,  48],\n",
              "       [ 69,   1,   7,  48,  59],\n",
              "       [ 70,   0,   7,  48,  47],\n",
              "       [ 71,   1,  70,  49,  55],\n",
              "       [ 72,   0,  47,  49,  42],\n",
              "       [ 73,   0,  60,  50,  49],\n",
              "       [ 74,   0,  60,  50,  56],\n",
              "       [ 75,   1,  59,  54,  47],\n",
              "       [ 76,   1,   7,  54,  54],\n",
              "       [ 77,   0,  45,  54,  53],\n",
              "       [ 78,   1,  40,  54,  48],\n",
              "       [ 79,   0,   7,  54,  52],\n",
              "       [ 80,   0,  49,  54,  42],\n",
              "       [ 81,   1,  57,  54,  51],\n",
              "       [ 82,   1,  38,  54,  55],\n",
              "       [ 83,   1,  67,  54,  41],\n",
              "       [ 84,   0,  46,  54,  44],\n",
              "       [ 85,   0,   7,  54,  57],\n",
              "       [ 86,   1,  48,  54,  46],\n",
              "       [ 87,   0,  55,  57,  58],\n",
              "       [ 88,   0,   7,  57,  55],\n",
              "       [ 89,   0,   7,  58,  60],\n",
              "       [ 90,   0,  50,  58,  46],\n",
              "       [ 91,   0,  68,  59,  55],\n",
              "       [ 92,   1,   7,  59,  41],\n",
              "       [ 93,   1,  48,  60,  49],\n",
              "       [ 94,   0,  40,  60,  40],\n",
              "       [ 95,   0,   7,  60,  42],\n",
              "       [ 96,   1,   7,  60,  52],\n",
              "       [ 97,   0,  47,  60,  47],\n",
              "       [ 98,   0,   7,  60,  50],\n",
              "       [ 99,   1,  48,  61,  42],\n",
              "       [100,   1,   7,  61,  49],\n",
              "       [101,   0,   7,  62,  41],\n",
              "       [102,   0,  49,  62,  48],\n",
              "       [103,   1,  67,  62,  59],\n",
              "       [104,   1,   7,  62,  55],\n",
              "       [105,   1,  49,  62,  56],\n",
              "       [106,   0,   7,  62,  42],\n",
              "       [107,   0,  66,  63,  50],\n",
              "       [108,   1,  54,  63,  46],\n",
              "       [109,   1,  68,  63,  43],\n",
              "       [110,   1,  66,  63,  48],\n",
              "       [111,   1,  65,  63,  52],\n",
              "       [112,   0,   7,  63,  54],\n",
              "       [113,   0,  38,  64,  42],\n",
              "       [114,   1,   7,  64,  46],\n",
              "       [115,   0,   7,  65,  48],\n",
              "       [116,   0,   7,  65,  50],\n",
              "       [117,   0,  63,  65,  43],\n",
              "       [118,   0,  49,  65,  59],\n",
              "       [119,   0,  51,  67,  43],\n",
              "       [120,   0,  50,  67,  57],\n",
              "       [121,   1,   7,  67,  56],\n",
              "       [122,   0,  38,  67,  40],\n",
              "       [123,   0,  40,  69,  58],\n",
              "       [124,   1,  39,  69,  91],\n",
              "       [125,   0,   7,  70,  29],\n",
              "       [126,   0,   7,  70,  77],\n",
              "       [127,   1,  43,  71,  35],\n",
              "       [128,   1,  40,  71,  95],\n",
              "       [129,   1,  59,  71,  11],\n",
              "       [130,   1,  38,  71,  75],\n",
              "       [131,   1,  47,  71,   9],\n",
              "       [132,   1,  39,  71,  75],\n",
              "       [133,   0,   7,  72,  34],\n",
              "       [134,   0,   7,  72,  71],\n",
              "       [135,   1,   7,  73,   5],\n",
              "       [136,   0,   7,  73,  88],\n",
              "       [137,   0,  44,  73,   7],\n",
              "       [138,   1,   7,  73,  73],\n",
              "       [139,   1,   7,  74,  10],\n",
              "       [140,   0,  35,  74,  72],\n",
              "       [141,   0,  57,  75,   5],\n",
              "       [142,   1,   7,  75,  93],\n",
              "       [143,   0,   7,  76,  40],\n",
              "       [144,   0,   7,  76,  87],\n",
              "       [145,   1,   7,  77,  12],\n",
              "       [146,   1,   7,  77,  97],\n",
              "       [147,   1,  48,  77,  36],\n",
              "       [148,   0,   7,  77,  74],\n",
              "       [149,   0,   7,  78,  22],\n",
              "       [150,   1,   7,  78,  90],\n",
              "       [151,   1,  43,  78,  17],\n",
              "       [152,   1,  39,  78,  88],\n",
              "       [153,   0,  44,  78,  20],\n",
              "       [154,   0,  38,  78,  76],\n",
              "       [155,   0,  47,  78,  16],\n",
              "       [156,   0,   7,  78,  89],\n",
              "       [157,   1,  37,  78,   1],\n",
              "       [158,   0,   7,  78,  78],\n",
              "       [159,   1,   7,  78,   1],\n",
              "       [160,   0,   7,  78,  73],\n",
              "       [161,   0,  56,  79,  35],\n",
              "       [162,   0,   7,  79,  83],\n",
              "       [163,   1,   7,  81,   5],\n",
              "       [164,   0,   7,  81,  93],\n",
              "       [165,   1,  50,  85,  26],\n",
              "       [166,   0,  36,  85,  75],\n",
              "       [167,   1,  42,  86,  20],\n",
              "       [168,   0,   7,  86,  95],\n",
              "       [169,   0,  36,  87,  27],\n",
              "       [170,   1,   7,  87,  63],\n",
              "       [171,   1,  40,  87,  13],\n",
              "       [172,   1,   7,  87,  75],\n",
              "       [173,   1,  36,  87,  10],\n",
              "       [174,   1,  36,  87,  92],\n",
              "       [175,   0,  52,  88,  13],\n",
              "       [176,   0,   7,  88,  86],\n",
              "       [177,   1,  58,  88,  15],\n",
              "       [178,   1,   7,  88,  69],\n",
              "       [179,   1,  59,  93,  14],\n",
              "       [180,   1,  35,  93,  90],\n",
              "       [181,   0,  37,  97,  32],\n",
              "       [182,   0,   7,  97,  86],\n",
              "       [183,   1,  46,  98,  15],\n",
              "       [184,   0,   7,  98,  88],\n",
              "       [185,   0,  41,  99,  39],\n",
              "       [186,   1,   7,  99,  97],\n",
              "       [187,   0,  54, 101,  24],\n",
              "       [188,   1,   7, 101,  68],\n",
              "       [189,   0,  41, 103,  17],\n",
              "       [190,   0,  36, 103,  85],\n",
              "       [191,   0,   7, 103,  23],\n",
              "       [192,   0,   7, 103,  69],\n",
              "       [193,   1,   7, 113,   8],\n",
              "       [194,   0,  38, 113,  91],\n",
              "       [195,   0,  47, 120,  16],\n",
              "       [196,   0,  35, 120,  79],\n",
              "       [197,   0,  45, 126,  28],\n",
              "       [198,   1,   7, 126,  74],\n",
              "       [199,   1,   7, 137,  18],\n",
              "       [200,   1,   7, 137,  83]], dtype=int64)"
            ]
          },
          "execution_count": 98,
          "metadata": {},
          "output_type": "execute_result"
        }
      ],
      "source": [
        "X=data.iloc[:,:-1].values\n",
        "y=data.iloc[:,-1].values\n",
        "X"
      ]
    },
    {
      "cell_type": "code",
      "execution_count": null,
      "id": "5731a85c",
      "metadata": {
        "id": "5731a85c",
        "outputId": "8fb405fd-e59e-445c-9d34-156f9e3069af"
      },
      "outputs": [
        {
          "data": {
            "text/plain": [
              "array([1, 1, 0, 0, 0, 0, 0, 0, 1, 0, 1, 0, 0, 0, 1, 1, 0, 1, 1, 0, 1, 1,\n",
              "       0, 1, 0, 1, 0, 1, 0, 0, 1, 0, 1, 1, 0, 0, 0, 0, 0, 0, 0, 1, 1, 0,\n",
              "       0, 0, 0, 0, 0, 0, 0, 1, 0, 1, 0, 1, 0, 1, 0, 1, 1, 1, 0, 0, 1, 1,\n",
              "       0, 0, 1, 0, 1, 0, 0, 0, 1, 1, 0, 1, 0, 0, 1, 1, 1, 0, 0, 1, 0, 0,\n",
              "       0, 0, 0, 1, 1, 0, 0, 1, 0, 0, 1, 1, 0, 0, 1, 1, 1, 0, 0, 1, 1, 1,\n",
              "       1, 0, 0, 1, 0, 0, 0, 0, 0, 0, 1, 0, 0, 1, 0, 0, 1, 1, 1, 1, 1, 1,\n",
              "       0, 0, 1, 0, 0, 1, 1, 0, 0, 1, 0, 0, 1, 1, 1, 0, 0, 1, 1, 1, 0, 0,\n",
              "       0, 0, 1, 0, 1, 0, 0, 0, 1, 0, 1, 0, 1, 0, 0, 1, 1, 1, 1, 1, 0, 0,\n",
              "       1, 1, 1, 1, 0, 0, 1, 0, 0, 1, 0, 1, 0, 0, 0, 0, 1, 0, 0, 0, 0, 1,\n",
              "       1, 1], dtype=int64)"
            ]
          },
          "execution_count": 85,
          "metadata": {},
          "output_type": "execute_result"
        }
      ],
      "source": [
        "y"
      ]
    },
    {
      "cell_type": "code",
      "execution_count": null,
      "id": "5e32bb0a",
      "metadata": {
        "id": "5e32bb0a",
        "outputId": "f77fffb5-b7e1-42b9-b57b-bcf0e253c43b"
      },
      "outputs": [
        {
          "name": "stdout",
          "output_type": "stream",
          "text": [
            "(200, 5) (200,)\n"
          ]
        }
      ],
      "source": [
        "print(X.shape,y.shape)"
      ]
    },
    {
      "cell_type": "code",
      "execution_count": null,
      "id": "503944ed",
      "metadata": {
        "id": "503944ed",
        "outputId": "9314aed0-fae7-4af3-e7da-0cafb2d2895c"
      },
      "outputs": [
        {
          "data": {
            "text/plain": [
              "<matplotlib.collections.PathCollection at 0x17530818040>"
            ]
          },
          "execution_count": 87,
          "metadata": {},
          "output_type": "execute_result"
        },
        {
          "data": {
            "image/png": "[encoded data removed]",
            "text/plain": [
              "<Figure size 432x288 with 1 Axes>"
            ]
          },
          "metadata": {},
          "output_type": "display_data"
        }
      ],
      "source": [
        "plt.scatter(data['Annual Income (k$)'],data['Spending Score (1-100)'],color='red')"
      ]
    },
    {
      "cell_type": "markdown",
      "id": "78664d69",
      "metadata": {
        "id": "78664d69"
      },
      "source": [
        "## 12. Split the data into training and testing\n"
      ]
    },
    {
      "cell_type": "code",
      "execution_count": null,
      "id": "ca200c83",
      "metadata": {
        "id": "ca200c83"
      },
      "outputs": [],
      "source": [
        "from sklearn.model_selection import train_test_split\n",
        "\n",
        "X_train,X_test,y_train,y_test=train_test_split(X,y,test_size=0.2)\n",
        "\n"
      ]
    },
    {
      "cell_type": "code",
      "execution_count": null,
      "id": "6c36cd6e",
      "metadata": {
        "id": "6c36cd6e",
        "outputId": "953685f7-e61b-4e7f-d3d9-be8662fb7063"
      },
      "outputs": [
        {
          "name": "stdout",
          "output_type": "stream",
          "text": [
            "(160, 5) (40, 5)\n"
          ]
        }
      ],
      "source": [
        "print(X_train.shape,X_test.shape)"
      ]
    },
    {
      "cell_type": "markdown",
      "id": "98f9c2b2",
      "metadata": {
        "id": "98f9c2b2"
      },
      "source": [
        "## 13. Build the Model\n"
      ]
    },
    {
      "cell_type": "markdown",
      "id": "8ac25c80",
      "metadata": {
        "id": "8ac25c80"
      },
      "source": [
        "#### DecisionTreeClassifier"
      ]
    },
    {
      "cell_type": "code",
      "execution_count": null,
      "id": "15376393",
      "metadata": {
        "id": "15376393"
      },
      "outputs": [],
      "source": [
        "from sklearn.tree import DecisionTreeClassifier\n",
        "model=DecisionTreeClassifier()"
      ]
    },
    {
      "cell_type": "markdown",
      "id": "338fb847",
      "metadata": {
        "id": "338fb847"
      },
      "source": [
        "## 14. Train the Model\n"
      ]
    },
    {
      "cell_type": "code",
      "execution_count": null,
      "id": "5c6febcb",
      "metadata": {
        "id": "5c6febcb",
        "outputId": "68860e12-67f2-439a-9f50-d9f31af95dc1"
      },
      "outputs": [
        {
          "data": {
            "text/plain": [
              "DecisionTreeClassifier()"
            ]
          },
          "execution_count": 106,
          "metadata": {},
          "output_type": "execute_result"
        }
      ],
      "source": [
        "model.fit(X_train,y_train)"
      ]
    },
    {
      "cell_type": "markdown",
      "id": "afe67c89",
      "metadata": {
        "id": "afe67c89"
      },
      "source": [
        "## 15. Test the Model\n"
      ]
    },
    {
      "cell_type": "code",
      "execution_count": null,
      "id": "34892199",
      "metadata": {
        "id": "34892199"
      },
      "outputs": [],
      "source": [
        "pred2=model.predict(X_test)"
      ]
    },
    {
      "cell_type": "markdown",
      "id": "89c6466d",
      "metadata": {
        "id": "89c6466d"
      },
      "source": [
        "## 16. Measure the performance using Evaluation Metrics"
      ]
    },
    {
      "cell_type": "code",
      "execution_count": null,
      "id": "9b484e79",
      "metadata": {
        "id": "9b484e79",
        "outputId": "7ff0311c-e306-4e88-9101-5b7e336fd0d2"
      },
      "outputs": [
        {
          "data": {
            "text/plain": [
              "1.0"
            ]
          },
          "execution_count": 109,
          "metadata": {},
          "output_type": "execute_result"
        }
      ],
      "source": [
        "from sklearn.metrics import accuracy_score\n",
        "\n",
        "accuracy_score(y_test,pred2)"
      ]
    },
    {
      "cell_type": "code",
      "execution_count": null,
      "id": "a0971acb",
      "metadata": {
        "id": "a0971acb",
        "outputId": "177f969a-3137-42a9-8816-f72a27147deb"
      },
      "outputs": [
        {
          "data": {
            "text/plain": [
              "array([[ 8,  0,  0,  0],\n",
              "       [ 0,  8,  0,  0],\n",
              "       [ 0,  0, 18,  0],\n",
              "       [ 0,  0,  0,  6]], dtype=int64)"
            ]
          },
          "execution_count": 110,
          "metadata": {},
          "output_type": "execute_result"
        }
      ],
      "source": [
        "from sklearn import metrics\n",
        "metrics.confusion_matrix(y_test,pred2)"
      ]
    },
    {
      "cell_type": "code",
      "execution_count": null,
      "id": "fdb1d8ec",
      "metadata": {
        "id": "fdb1d8ec",
        "outputId": "9d080c22-0a73-4e6d-a280-e43603df9d6b"
      },
      "outputs": [
        {
          "data": {
            "text/html": [
              "<div>\n",
              "<style scoped>\n",
              "    .dataframe tbody tr th:only-of-type {\n",
              "        vertical-align: middle;\n",
              "    }\n",
              "\n",
              "    .dataframe tbody tr th {\n",
              "        vertical-align: top;\n",
              "    }\n",
              "\n",
              "    .dataframe thead th {\n",
              "        text-align: right;\n",
              "    }\n",
              "</style>\n",
              "<table border=\"1\" class=\"dataframe\">\n",
              "  <thead>\n",
              "    <tr style=\"text-align: right;\">\n",
              "      <th></th>\n",
              "      <th>CustomerID</th>\n",
              "      <th>Gender</th>\n",
              "      <th>Age</th>\n",
              "      <th>Annual Income (k$)</th>\n",
              "      <th>Spending Score (1-100)</th>\n",
              "      <th>clust</th>\n",
              "    </tr>\n",
              "  </thead>\n",
              "  <tbody>\n",
              "    <tr>\n",
              "      <th>0</th>\n",
              "      <td>1</td>\n",
              "      <td>1</td>\n",
              "      <td>7</td>\n",
              "      <td>15</td>\n",
              "      <td>39</td>\n",
              "      <td>1</td>\n",
              "    </tr>\n",
              "    <tr>\n",
              "      <th>1</th>\n",
              "      <td>2</td>\n",
              "      <td>1</td>\n",
              "      <td>7</td>\n",
              "      <td>15</td>\n",
              "      <td>81</td>\n",
              "      <td>1</td>\n",
              "    </tr>\n",
              "  </tbody>\n",
              "</table>\n",
              "</div>"
            ],
            "text/plain": [
              "   CustomerID  Gender  Age  Annual Income (k$)  Spending Score (1-100)  clust\n",
              "0           1       1    7                  15                      39      1\n",
              "1           2       1    7                  15                      81      1"
            ]
          },
          "execution_count": 111,
          "metadata": {},
          "output_type": "execute_result"
        }
      ],
      "source": [
        "data.head(2)"
      ]
    },
    {
      "cell_type": "code",
      "execution_count": null,
      "id": "6d15d893",
      "metadata": {
        "id": "6d15d893",
        "outputId": "c5ac6bbf-614d-4ad4-f4b4-eda8a59d3595"
      },
      "outputs": [
        {
          "data": {
            "text/plain": [
              "array([1])"
            ]
          },
          "execution_count": 114,
          "metadata": {},
          "output_type": "execute_result"
        }
      ],
      "source": [
        "model.predict([[0,0,8,20,52,]])"
      ]
    },
    {
      "cell_type": "markdown",
      "id": "1e807f8e",
      "metadata": {
        "id": "1e807f8e"
      },
      "source": [
        "# ----------------------------------------------"
      ]
    },
    {
      "cell_type": "markdown",
      "id": "8ae0ddd2",
      "metadata": {
        "id": "8ae0ddd2"
      },
      "source": [
        "#### *Random Forest"
      ]
    },
    {
      "cell_type": "code",
      "execution_count": null,
      "id": "bfb8e2d0",
      "metadata": {
        "id": "bfb8e2d0"
      },
      "outputs": [],
      "source": [
        "from sklearn.ensemble import RandomForestClassifier"
      ]
    },
    {
      "cell_type": "code",
      "execution_count": null,
      "id": "1bce2a53",
      "metadata": {
        "id": "1bce2a53"
      },
      "outputs": [],
      "source": [
        "rf=RandomForestClassifier()"
      ]
    },
    {
      "cell_type": "code",
      "execution_count": null,
      "id": "c4e03fb8",
      "metadata": {
        "id": "c4e03fb8",
        "outputId": "1fd4f504-5287-4143-bdfb-43b22d2bed11"
      },
      "outputs": [
        {
          "data": {
            "text/plain": [
              "RandomForestClassifier()"
            ]
          },
          "execution_count": 120,
          "metadata": {},
          "output_type": "execute_result"
        }
      ],
      "source": [
        "#train the model\n",
        "rf.fit(X_train,y_train)"
      ]
    },
    {
      "cell_type": "code",
      "execution_count": null,
      "id": "b92087aa",
      "metadata": {
        "id": "b92087aa"
      },
      "outputs": [],
      "source": [
        "#prediction on the test\n",
        "pred=rf.predict(X_test)"
      ]
    },
    {
      "cell_type": "code",
      "execution_count": null,
      "id": "4287f16f",
      "metadata": {
        "id": "4287f16f",
        "outputId": "c69baa42-5774-4a1b-cfab-e0bf70496bc9"
      },
      "outputs": [
        {
          "data": {
            "text/plain": [
              "1.0"
            ]
          },
          "execution_count": 123,
          "metadata": {},
          "output_type": "execute_result"
        }
      ],
      "source": [
        "# Accuracy of DT model \n",
        "from sklearn.metrics import accuracy_score\n",
        "\n",
        "accuracy_score(y_test,pred)"
      ]
    },
    {
      "cell_type": "code",
      "execution_count": null,
      "id": "4d525cdc",
      "metadata": {
        "id": "4d525cdc",
        "outputId": "9ca8df97-4810-40c2-bf3b-3aaa6a4819b4"
      },
      "outputs": [
        {
          "data": {
            "text/plain": [
              "array([[ 8,  0,  0,  0],\n",
              "       [ 0,  8,  0,  0],\n",
              "       [ 0,  0, 18,  0],\n",
              "       [ 0,  0,  0,  6]], dtype=int64)"
            ]
          },
          "execution_count": 124,
          "metadata": {},
          "output_type": "execute_result"
        }
      ],
      "source": [
        "# e matrix\n",
        "from sklearn import metrics\n",
        "metrics.confusion_matrix(y_test,pred)"
      ]
    },
    {
      "cell_type": "markdown",
      "id": "15c55854",
      "metadata": {
        "id": "15c55854"
      },
      "source": [
        "#### NAIVE BAYES Model"
      ]
    },
    {
      "cell_type": "code",
      "execution_count": 2,
      "id": "9b793050",
      "metadata": {
        "id": "9b793050"
      },
      "outputs": [],
      "source": [
        "from sklearn.naive_bayes import GaussianNB"
      ]
    },
    {
      "cell_type": "code",
      "execution_count": 3,
      "id": "b52bbd4f",
      "metadata": {
        "id": "b52bbd4f"
      },
      "outputs": [],
      "source": [
        "nb=GaussianNB()"
      ]
    },
    {
      "cell_type": "code",
      "execution_count": 4,
      "id": "bf136808",
      "metadata": {
        "colab": {
          "base_uri": "https://localhost:8080/",
          "height": 200
        },
        "id": "bf136808",
        "outputId": "cc344287-26f8-4091-ab52-680e11aec73f"
      },
      "outputs": [
        {
          "output_type": "error",
          "ename": "NameError",
          "evalue": "ignored",
          "traceback": [
            "\u001b[0;31m---------------------------------------------------------------------------\u001b[0m",
            "\u001b[0;31mNameError\u001b[0m                                 Traceback (most recent call last)",
            "\u001b[0;32m<ipython-input-4-1ebd2b880d30>\u001b[0m in \u001b[0;36m<module>\u001b[0;34m\u001b[0m\n\u001b[1;32m      1\u001b[0m \u001b[0;31m#training model\u001b[0m\u001b[0;34m\u001b[0m\u001b[0;34m\u001b[0m\u001b[0;34m\u001b[0m\u001b[0m\n\u001b[1;32m      2\u001b[0m \u001b[0;34m\u001b[0m\u001b[0m\n\u001b[0;32m----> 3\u001b[0;31m \u001b[0mnb\u001b[0m\u001b[0;34m.\u001b[0m\u001b[0mfit\u001b[0m\u001b[0;34m(\u001b[0m\u001b[0mX_train\u001b[0m\u001b[0;34m,\u001b[0m\u001b[0my_train\u001b[0m\u001b[0;34m)\u001b[0m\u001b[0;34m\u001b[0m\u001b[0;34m\u001b[0m\u001b[0m\n\u001b[0m",
            "\u001b[0;31mNameError\u001b[0m: name 'X_train' is not defined"
          ]
        }
      ],
      "source": [
        "#training model\n",
        "\n",
        "nb.fit(X_train,y_train)"
      ]
    },
    {
      "cell_type": "code",
      "execution_count": null,
      "id": "8f552382",
      "metadata": {
        "id": "8f552382"
      },
      "outputs": [],
      "source": [
        "#Test the model\n",
        "pred=nb.predict(X_test)\n",
        "pred"
      ]
    },
    {
      "cell_type": "code",
      "execution_count": null,
      "id": "4703e107",
      "metadata": {
        "id": "4703e107"
      },
      "outputs": [],
      "source": [
        "#evalute model matrix\n",
        "\n",
        "from sklearn.metrics import accuracy_score, confusion_matrix\n",
        "accuracy_score(y_test,pred)"
      ]
    },
    {
      "cell_type": "code",
      "execution_count": null,
      "id": "9b329c89",
      "metadata": {
        "id": "9b329c89"
      },
      "outputs": [],
      "source": [
        "confusion_matrix(y_test,pred)"
      ]
    },
    {
      "cell_type": "code",
      "execution_count": null,
      "id": "256d4a52",
      "metadata": {
        "id": "256d4a52"
      },
      "outputs": [],
      "source": []
    }
  ],
  "metadata": {
    "kernelspec": {
      "display_name": "Python 3 (ipykernel)",
      "language": "python",
      "name": "python3"
    },
    "language_info": {
      "codemirror_mode": {
        "name": "ipython",
        "version": 3
      },
      "file_extension": ".py",
      "mimetype": "text/x-python",
      "name": "python",
      "nbconvert_exporter": "python",
      "pygments_lexer": "ipython3",
      "version": "3.9.12"
    },
    "colab": {
      "provenance": [],
      "collapsed_sections": [
        "d8bed1c6",
        "c5ee90c1",
        "3753a5f1",
        "2cb47b53",
        "2c121469",
        "2c175efc",
        "334c459b",
        "e0884b8d",
        "9ed29b6d",
        "78664d69",
        "98f9c2b2",
        "8ac25c80",
        "338fb847",
        "afe67c89",
        "89c6466d",
        "8ae0ddd2"
      ]
    }
  },
  "nbformat": 4,
  "nbformat_minor": 5
}